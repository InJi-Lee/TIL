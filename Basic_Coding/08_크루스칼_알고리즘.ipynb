{
  "nbformat": 4,
  "nbformat_minor": 0,
  "metadata": {
    "colab": {
      "name": "08_크루스칼 알고리즘.ipynb",
      "provenance": [],
      "collapsed_sections": []
    },
    "kernelspec": {
      "name": "python3",
      "display_name": "Python 3"
    },
    "language_info": {
      "name": "python"
    }
  },
  "cells": [
    {
      "cell_type": "markdown",
      "metadata": {
        "id": "kqndkgt-B-H5"
      },
      "source": [
        "# 크루스칼 알고리즘: 최소 신장 트리를 찾는 알고리즘\n",
        "### 대표적인 최소 신장 트리 알고리즘입니다.\n",
        "### 그리디 알고리즘으로 분류됩니다.\n",
        "### 구체적인 동작 과정은 다음과 같습니다.<br>1. 간선 데이터를 비용에 따라 오름차순으로 정렬합니다.<br>2. 간선을 하나씩 확인하며 현재의 간선이 사이클을 발생시키는지 확인합니다.<br>1) 사이클이 발생하지 않는 경우 최소 신장 트리에 포함시킵니다.<br>2) 사이클이 발생하는 경우 최소 신장 트리에 포함시키지 않습니다.<br>3. 모든 간선에 대하여 2번의 과정을 반복합니다.\n",
        "***\n",
        "### ++)신장트리란?\n",
        "- 그래프에서 모든 노드를 포함하면 서 사이클이 존재하지 않는 부분 그래프를 의미합니다.\n",
        "- 모든 노드가 포함되어 서로 연결되면서 사이클이 존재하지 않는다는 조건은 트리의 조건이기도 합니다."
      ]
    },
    {
      "cell_type": "code",
      "metadata": {
        "id": "US7M5EwnBzF1"
      },
      "source": [
        "# 특정 원소가 속한 집합을 찾기\n",
        "def find_parent(parent, x):\n",
        "    # 루트 노드를 찾을 때까지 재귀 호출\n",
        "    if parent[x] != x:\n",
        "        parent[x] = find_parent(parent, parent[x])\n",
        "    return parent[x]\n",
        "\n",
        "# 두 원소가 속한 집합을 합치기\n",
        "def union_parent(parent, a, b):\n",
        "    a = find_parent(parent, a)\n",
        "    b = find_parent(parent, b)\n",
        "    if a < b:\n",
        "        parent[b] = a\n",
        "    else:\n",
        "        parent[a] = b\n",
        "\n",
        "# 노드의 개수와 간선(Union 연산)의 개수 입력 받기\n",
        "v, e = map(int, input().split())\n",
        "parent = [0] * (v + 1)    # 부모 테이블 초기화하기\n",
        "\n",
        "# 모든 간선을 담을 리스트와, 최종 비용을 담을 변수\n",
        "edges = []\n",
        "result = 0\n",
        "\n",
        "# 부모 테이블상에서, 부모를 자기 자신으로 초기화\n",
        "for i in  range(1, v + 1):\n",
        "    parent[i] = i\n",
        "\n",
        "# 모든 간선에 대한 정보를 입력 받기\n",
        "for _ in range(e):\n",
        "    a, b, cost = map(int, input().split())\n",
        "    # 비용순으로 정렬하기 위해서 튜플의 첫 번째 원소를 비용으로 설정\n",
        "    edges.append((cost, a, b))\n",
        "\n",
        "# 간선을 비용순으로 정렬\n",
        "edges.sort()\n",
        "\n",
        "# 간선을 하나씩 확인하며\n",
        "for edge in edges:\n",
        "    cost, a, b = edge\n",
        "    # 사이클이 발생하지 않는 경우에만 집합에 포함\n",
        "    if find_parent(parent, a) != find_parent(parent, b):\n",
        "        union_parent(parent, a, b)\n",
        "        result += cost\n",
        "\n",
        "print(result)"
      ],
      "execution_count": null,
      "outputs": []
    },
    {
      "cell_type": "markdown",
      "metadata": {
        "id": "QZA3_5olHZmL"
      },
      "source": [
        "### 크루스칼 알고리즘 성능 분석\n",
        "- 크루스칼 알고리즘은 간선의 개수가 E개일 때, O(ElogE)의 시간 복잡도를 가집니다.\n",
        "- 크루스칼 알고리즘에서 가장 많은 시간을 요구하는 곳은 간선을 정렬을 수행하는 부분입니다.\n",
        "- 표준 라이브러리를 이용해 E개의 데이터를 정렬하기 위한 시간 복잡도는 O(ElogE)입니다."
      ]
    },
    {
      "cell_type": "code",
      "metadata": {
        "id": "CxulAnqJHZTE"
      },
      "source": [
        ""
      ],
      "execution_count": null,
      "outputs": []
    }
  ]
}