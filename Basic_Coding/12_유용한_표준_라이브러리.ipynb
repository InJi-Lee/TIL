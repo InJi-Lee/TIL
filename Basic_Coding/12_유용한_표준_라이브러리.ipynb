{
  "nbformat": 4,
  "nbformat_minor": 0,
  "metadata": {
    "colab": {
      "name": "12_유용한 표준 라이브러리.ipynb",
      "provenance": [],
      "collapsed_sections": []
    },
    "kernelspec": {
      "name": "python3",
      "display_name": "Python 3"
    },
    "language_info": {
      "name": "python"
    }
  },
  "cells": [
    {
      "cell_type": "markdown",
      "metadata": {
        "id": "dUNN-wUKvOX0"
      },
      "source": [
        "# 실전에서 유용한 표준 라이브러리\n",
        "***"
      ]
    },
    {
      "cell_type": "markdown",
      "metadata": {
        "id": "YJUeVi_qvTSJ"
      },
      "source": [
        "- 내장 함수 : 기본 입출력 함수부터 정렬 함수까지 기본적인 함수들을 제공합니다. - 파이썬 프로그램을 작성할 때 없어서는 안 되는 필수적인 기능을 포함\n",
        "- itertools : 파이썬에서 반복되는 형태의 데이터를 처리하기 위한 유용한 기능들을 제공합니다. - 특히 순열과 조합 라이브러리는 코딩 테스트에서 자주 사용됨\n",
        "- heapq : 힙(heap) 자료구조를 제공합니다. - 일반적으로 우선순위 큐 기능을 구현하기 위해 사용됨\n",
        "- bisect : 이진탐색 기능을 제공합니다.\n",
        "- collections : 덱(deque), 카운터(Counter) 등의 유용한 자료구조를 포함합니다.\n",
        "- math : 필수적인 수학적 기능을 제공합니다. - 팩토리얼, 제곱근, 최대공약수(GCD), 삼각함수 관련 함수부터 파이(pi)와 같은 상수를 포함합니다."
      ]
    },
    {
      "cell_type": "code",
      "metadata": {
        "colab": {
          "base_uri": "https://localhost:8080/"
        },
        "id": "69EtrrdlqUAB",
        "outputId": "f20985cd-8d3f-4f31-bcfc-ad797f559994"
      },
      "source": [
        "# sun()\n",
        "result = sum([1,2,3,4,5])\n",
        "print(result)\n",
        "\n",
        "# min(), max()\n",
        "min_result = min(7,3,5,2)\n",
        "max_result = max(7,3,5,2)\n",
        "print(min_result, max_result)\n",
        "\n",
        "# eval()\n",
        "result = eval(\"(3+5)*7\")\n",
        "print(result)"
      ],
      "execution_count": 1,
      "outputs": [
        {
          "output_type": "stream",
          "text": [
            "15\n",
            "2 7\n",
            "56\n"
          ],
          "name": "stdout"
        }
      ]
    },
    {
      "cell_type": "code",
      "metadata": {
        "colab": {
          "base_uri": "https://localhost:8080/"
        },
        "id": "ceRRkLKdxufL",
        "outputId": "2b4f8b1a-ab14-41a8-8891-70694eb2d9a5"
      },
      "source": [
        "# sorted()\n",
        "result = sorted([9,1,8,5,4])\n",
        "reverse_result = sorted([9,1,8,5,4], reverse=True)\n",
        "print(result)\n",
        "print(reverse_result)\n",
        "\n",
        "# sorted(), with key\n",
        "array = [('홍길동', 35), ('이순신', 75), ('아무개', 50)]\n",
        "result = sorted(array, key=lambda s: s[1], reverse=True)\n",
        "print(result)"
      ],
      "execution_count": 2,
      "outputs": [
        {
          "output_type": "stream",
          "text": [
            "[1, 4, 5, 8, 9]\n",
            "[9, 8, 5, 4, 1]\n",
            "[('이순신', 75), ('아무개', 50), ('홍길동', 35)]\n"
          ],
          "name": "stdout"
        }
      ]
    },
    {
      "cell_type": "markdown",
      "metadata": {
        "id": "CT6c-kJtzFv2"
      },
      "source": [
        "## 순열과 조합"
      ]
    },
    {
      "cell_type": "markdown",
      "metadata": {
        "id": "fGfG5AsOzKT-"
      },
      "source": [
        "### 순열 : 서로 다른 n개에서 서로 다른 r개를 선택하여 일렬로 나열하는 것"
      ]
    },
    {
      "cell_type": "code",
      "metadata": {
        "colab": {
          "base_uri": "https://localhost:8080/"
        },
        "id": "7RmkV5mXygKy",
        "outputId": "7d9a9e45-11ed-4cf1-d248-235cc499c578"
      },
      "source": [
        "from itertools import permutations\n",
        "\n",
        "data = ['A', 'B', 'C']    # 데이터 준비\n",
        "\n",
        "result = list(permutations(data, 3))    # 모든 순열 구하기\n",
        "print(result)"
      ],
      "execution_count": 3,
      "outputs": [
        {
          "output_type": "stream",
          "text": [
            "[('A', 'B', 'C'), ('A', 'C', 'B'), ('B', 'A', 'C'), ('B', 'C', 'A'), ('C', 'A', 'B'), ('C', 'B', 'A')]\n"
          ],
          "name": "stdout"
        }
      ]
    },
    {
      "cell_type": "markdown",
      "metadata": {
        "id": "I5Pxh3GVzujr"
      },
      "source": [
        "### 조합 : 서로 다른 n개에서 순서에 상관 없이 서로 다른 r개를 선택하는 것"
      ]
    },
    {
      "cell_type": "code",
      "metadata": {
        "colab": {
          "base_uri": "https://localhost:8080/"
        },
        "id": "qPwO6u3tzhyU",
        "outputId": "b41516ca-fab5-4d6c-c7c9-8d5f5adbd1ba"
      },
      "source": [
        "from itertools import combinations\n",
        "\n",
        "data = ['A', 'B', 'C']    # 데이터 준비\n",
        "\n",
        "result = list(combinations(data, 2))    # 2개를 뽑는 모든 조합 구하기\n",
        "print(result)"
      ],
      "execution_count": 4,
      "outputs": [
        {
          "output_type": "stream",
          "text": [
            "[('A', 'B'), ('A', 'C'), ('B', 'C')]\n"
          ],
          "name": "stdout"
        }
      ]
    },
    {
      "cell_type": "code",
      "metadata": {
        "colab": {
          "base_uri": "https://localhost:8080/"
        },
        "id": "EiMx9Kk_0El-",
        "outputId": "db13520c-1359-44fa-c33e-204bab3a20d8"
      },
      "source": [
        "# 중복 순열\n",
        "from itertools import product\n",
        "\n",
        "data = ['A', 'B', 'C']    # 데이터 준비\n",
        "\n",
        "reult = list(product(data, repeat=2))   # 2개를 뽑는 모든 순열 구하기 (중복 허용)\n",
        "print(result)"
      ],
      "execution_count": 5,
      "outputs": [
        {
          "output_type": "stream",
          "text": [
            "[('A', 'B'), ('A', 'C'), ('B', 'C')]\n"
          ],
          "name": "stdout"
        }
      ]
    },
    {
      "cell_type": "code",
      "metadata": {
        "colab": {
          "base_uri": "https://localhost:8080/"
        },
        "id": "kGSF8LBR0XTU",
        "outputId": "ca06f85b-e571-4955-c86d-ab271f44ecf1"
      },
      "source": [
        "# 중복 조합\n",
        "from itertools import combinations_with_replacement\n",
        "\n",
        "data = ['A', 'B', 'C']    # 데이터 준비\n",
        "\n",
        "result = list(combinations_with_replacement(data, 2))   # 2개를 뽑는 모든 조합 구하기 (중복 허용)\n",
        "print(result)"
      ],
      "execution_count": 6,
      "outputs": [
        {
          "output_type": "stream",
          "text": [
            "[('A', 'A'), ('A', 'B'), ('A', 'C'), ('B', 'B'), ('B', 'C'), ('C', 'C')]\n"
          ],
          "name": "stdout"
        }
      ]
    },
    {
      "cell_type": "markdown",
      "metadata": {
        "id": "hJ1E5uJM04Ta"
      },
      "source": [
        "## Counter\n",
        "- 리스트와 같은 반복 가능한(iterable) 객체가 주어졌을 때 내부의 원소가 몇 번씩 등장했는지 알려줍니다."
      ]
    },
    {
      "cell_type": "code",
      "metadata": {
        "colab": {
          "base_uri": "https://localhost:8080/"
        },
        "id": "JUZRUsoK0vUW",
        "outputId": "67a7da49-c268-49c8-e083-c732556df489"
      },
      "source": [
        "from collections import Counter\n",
        "\n",
        "counter = Counter(['red', 'blue', 'red', 'green', 'blue', 'blue'])\n",
        "\n",
        "print(counter['blue'])\n",
        "print(counter['green'])\n",
        "print(dict(counter))"
      ],
      "execution_count": 7,
      "outputs": [
        {
          "output_type": "stream",
          "text": [
            "3\n",
            "1\n",
            "{'red': 2, 'blue': 3, 'green': 1}\n"
          ],
          "name": "stdout"
        }
      ]
    },
    {
      "cell_type": "markdown",
      "metadata": {
        "id": "tWtFQWXj1gUC"
      },
      "source": [
        "## 최대 공약수와 최소 공배수"
      ]
    },
    {
      "cell_type": "code",
      "metadata": {
        "colab": {
          "base_uri": "https://localhost:8080/"
        },
        "id": "WduwjRS_1VNq",
        "outputId": "e9bd8bce-41a7-4d47-ec51-86edc8a2502a"
      },
      "source": [
        "import math\n",
        "\n",
        "# 최소 공배수(LCM)를 구하는 함수\n",
        "def lcm(a, b):\n",
        "    return a * b // math.gcd(a, b)\n",
        "\n",
        "a = 21\n",
        "b = 14\n",
        "\n",
        "print(math.gcd(21, 14))   # 최대 공약수(GCD) 계산\n",
        "print(lcm(21, 14))    # 최소 공배수(LCM) 계산"
      ],
      "execution_count": 10,
      "outputs": [
        {
          "output_type": "stream",
          "text": [
            "7\n",
            "42\n"
          ],
          "name": "stdout"
        }
      ]
    },
    {
      "cell_type": "code",
      "metadata": {
        "id": "zNTKoSRH2U0t"
      },
      "source": [
        ""
      ],
      "execution_count": null,
      "outputs": []
    }
  ]
}