{
  "nbformat": 4,
  "nbformat_minor": 0,
  "metadata": {
    "colab": {
      "name": "DFS와 BFS.ipynb",
      "provenance": [],
      "collapsed_sections": []
    },
    "kernelspec": {
      "name": "python3",
      "display_name": "Python 3"
    },
    "language_info": {
      "name": "python"
    }
  },
  "cells": [
    {
      "cell_type": "markdown",
      "metadata": {
        "id": "bg5jp77o-jTW"
      },
      "source": [
        "### DFS (Depth-First Search)\n",
        "- 하나의 정점으로부터 시작하여 차례대로 모든 정점들을 한 번씩 방문함"
      ]
    },
    {
      "cell_type": "code",
      "metadata": {
        "id": "rcdaFqAY-fgu"
      },
      "source": [
        "# DFS 매서드 정의\n",
        "def dfs(gragh, v, visited):\n",
        "    # 현재 노드를 방문 처리\n",
        "    visited[v] = True\n",
        "    print(v, end=' ')\n",
        "    # 현재 노드와 연결된 다른 노드를 재귀적으로 방문\n",
        "    for i in graph[v]:\n",
        "        if not visited[i]:\n",
        "            dfs(graph, i, visited)"
      ],
      "execution_count": 3,
      "outputs": []
    },
    {
      "cell_type": "code",
      "metadata": {
        "colab": {
          "base_uri": "https://localhost:8080/"
        },
        "id": "gwGUpbhB_0tD",
        "outputId": "c4186493-61c8-4dd0-a13f-dd3d871439d8"
      },
      "source": [
        "graph = [\n",
        "    [],\n",
        "    [2, 3, 8],\n",
        "    [1, 7],\n",
        "    [1, 4, 5],\n",
        "    [3, 5],\n",
        "    [3, 4],\n",
        "    [7],\n",
        "    [2, 6, 8],\n",
        "    [1, 7]\n",
        "]\n",
        "\n",
        "# 각 노드가 방문된 정보를 표현 (1차원 리스트)\n",
        "visited = [False] * 9\n",
        "\n",
        "# 정의된 DFS 함수 호출\n",
        "dfs(graph, 1, visited)"
      ],
      "execution_count": 4,
      "outputs": [
        {
          "output_type": "stream",
          "text": [
            "1 2 7 6 8 3 4 5 "
          ],
          "name": "stdout"
        }
      ]
    },
    {
      "cell_type": "markdown",
      "metadata": {
        "id": "UyO7mbHyBi97"
      },
      "source": [
        "### BFS (Breadth-First SEarch)\n",
        "- 그래프에서 가까운 노드부터 우선적으로 탐색"
      ]
    },
    {
      "cell_type": "code",
      "metadata": {
        "colab": {
          "base_uri": "https://localhost:8080/"
        },
        "id": "uXceOUZyAZz4",
        "outputId": "44095459-f701-4553-f273-7d3ceac47124"
      },
      "source": [
        "from collections import deque\n",
        "\n",
        "# BFS 매서드 정의\n",
        "def bfs(graph, start, visited):\n",
        "    # 큐(Queue) 구현을 위해 deque 라이브러리 사용\n",
        "    queue = deque([start])\n",
        "    # 현재 노드를 방문 처리\n",
        "    visited[start] = True\n",
        "    # 큐가 빌 때까지 반복\n",
        "    while queue:\n",
        "        # 큐에서 하나의 원소를 뽑아 출력하기\n",
        "        v = queue.popleft()\n",
        "        print(v, end=' ')\n",
        "        # 아직 방문하지 않은 인접한 원소들을 큐에 삽입\n",
        "        for i in graph[v]:\n",
        "            if not visited[i]:\n",
        "                queue.append(i)\n",
        "                visited[i] = True\n",
        "\n",
        "\n",
        "# 각 노드가 연결된 정보를 표현 (2차원 리스트)\n",
        "graph = [\n",
        "    [],\n",
        "    [2, 3, 8],\n",
        "    [1, 7],\n",
        "    [1, 4, 5],\n",
        "    [3, 5],\n",
        "    [3, 4],\n",
        "    [7],\n",
        "    [2, 6, 8],\n",
        "    [1, 7]\n",
        "]\n",
        "\n",
        "# 각 노드가 방문된 정보를 표현 (1차원 리스트)\n",
        "visited = [False] * 9\n",
        "\n",
        "# 정의된 DFS 함수 호출\n",
        "bfs(graph, 1, visited)"
      ],
      "execution_count": 5,
      "outputs": [
        {
          "output_type": "stream",
          "text": [
            "1 2 3 8 7 4 5 6 "
          ],
          "name": "stdout"
        }
      ]
    },
    {
      "cell_type": "markdown",
      "metadata": {
        "id": "PMFSOLayE-Rg"
      },
      "source": [
        "## Ex) N x M 크기의 얼음 틀이 있습니다. 구멍이 뚫려 있는 부분은 0, 칸막이가 존재하는 부분은 1로 표시됩니다. 구멍이 뚫려 있는 부분끼리 상,하,좌,우로 붙어 있는 경우 서로 연결되어 있는 것으로 간주합니다. 이때 얼음 틀의 모양이 주어졌을 때 생성되는 총 아이스크림의 개수를 구하는 프로그램을 작성하세요. 다음의 4 x 5 얼음 틀 예시에서는 아이스크림이 총 3개 생성됩니다.<br>00110<br>00011<br>11111<br>00000\n",
        "***"
      ]
    },
    {
      "cell_type": "markdown",
      "metadata": {
        "id": "EZl1SEa7Fy8P"
      },
      "source": [
        "### 입력 조건\n",
        "- 첫 번째 줄에 얼음 틀의 세로 길이 N과 가로 길이 M이 주어집니다. (1 <= N, M <= 1,000)\n",
        "- 두 번째 줄부터 N + 1번째 줄까지 얼음 틀의 형태가 주어집니다.\n",
        "- 이떼 구멍이 뚫려있는 부분은 0, 그렇지 않은 부분은 1입니다.\n",
        "***\n",
        "### 출력 조건\n",
        "- 한 번에 만들 수 있는 아이스크림의 개수를 출력합니다.\n",
        "***\n",
        "- 입력 예시<br>4 5<br>00110<br>00011<br>11111<br>00000\n",
        "- 출력 예시<br>3"
      ]
    },
    {
      "cell_type": "markdown",
      "metadata": {
        "id": "iUckR0ZVMOro"
      },
      "source": [
        "### DFS 사용"
      ]
    },
    {
      "cell_type": "code",
      "metadata": {
        "colab": {
          "base_uri": "https://localhost:8080/"
        },
        "id": "xBqYSVtaEDKR",
        "outputId": "455286f3-310f-4e4f-9ca5-1ff801180df9"
      },
      "source": [
        "# DFS로 특정 노드를 방문하고 연결된 모든 노드들도 방문\n",
        "def dfs(x, y):\n",
        "    # 주어진 범위를 벗어나는 경우에는 즉시 종료\n",
        "    if x <= -1 or x >= n or y <= -1 or y>= m:\n",
        "        return False\n",
        "    # 현재 노드를 아직 방문하지 않았다면\n",
        "    if graph[x][y] == 0:\n",
        "        # 해당 노드 방문 처리\n",
        "        graph[x][y] = 1\n",
        "        # 상,하,좌,우의 위치들도 모두 재귀적으로 호출\n",
        "        dfs(x - 1, y)\n",
        "        dfs(x, y - 1)\n",
        "        dfs(x + 1, y)\n",
        "        dfs(x, y + 1)\n",
        "        return True\n",
        "    return False \n",
        "\n",
        "# N, M을 공백을 기준으로 구분하여 입력 받기\n",
        "n, m = map(int, input().split())\n",
        "\n",
        "# 2차원 리스트의 맵 정보 입력 받기\n",
        "graph = []\n",
        "for i in range(n):\n",
        "    graph.append(list(map(int, input())))\n",
        "\n",
        "# 모든 노드(위치)에 대하여 음료수 채우기\n",
        "result = 0\n",
        "for i in range(n):\n",
        "    for j in range(m):\n",
        "        # 현재 위치에서 DFS 수행\n",
        "        if dfs(i, j) == True:\n",
        "            result += 1\n",
        "\n",
        "print(result)"
      ],
      "execution_count": 8,
      "outputs": [
        {
          "output_type": "stream",
          "text": [
            "4 5\n",
            "00110\n",
            "00011\n",
            "11111\n",
            "00000\n",
            "3\n"
          ],
          "name": "stdout"
        }
      ]
    },
    {
      "cell_type": "markdown",
      "metadata": {
        "id": "jZKMnZ_bKhL8"
      },
      "source": [
        "## Ex) 미로 탈출\n",
        "- 동빈이는 N x M 크기의 직사각형 형태의 미로에 갇혔습니다. 미로에는 여러 마리의 괴물이 있어 이를 피해 탈출해야 합니다.\n",
        "- 동빈이의 위치는 (1,1)이며 미로의 출구는 (N,M)의 위치에 존재하며 한 번에 한 칸씩 이동할 수 있습니다. 이때 괴물이 있는 부분은 0으로, 괴물이 없는 부분은 1로 표시되어 있습니다. 미로는 반드시 탈출할 수 있는 형태로 제시됩니다.\n",
        "- 이때 동빈이가 탈출하기 위해 움직여야 하는 최소 칸의 개수를 구하세요. 칸을 셀 때는 시작 칸과 마지막 칸을 모두 포함해서 계산합니다."
      ]
    },
    {
      "cell_type": "markdown",
      "metadata": {
        "id": "L49lM4uULQsN"
      },
      "source": [
        "### 입력 조건\n",
        "- 첫째 줄에 두 정수 N,M(4 <= N, M <= 200)이 주어집니다. 다음 N개의 줄에는 각각 M개의 정수(0 혹은 1)로 미로의 정보가 주어집니다. 각각의 수들은 공백 없이 붙어서 입력으로 제시됩니다. 또한 시작칸과 마지막 칸은 항상 1입니다.\n",
        "***\n",
        "### 출력 조건\n",
        "- 첫째 줄에 최소 이동 칸의 개수를 출력합니다.\n",
        "***\n",
        "- 입력 예시<br>5 6<br>101010<br>111111<br>000001<br>111111<br>111111\n",
        "- 출력 예시<br>10"
      ]
    },
    {
      "cell_type": "markdown",
      "metadata": {
        "id": "9avi8iJ2MRJa"
      },
      "source": [
        "### BFS 사용"
      ]
    },
    {
      "cell_type": "code",
      "metadata": {
        "colab": {
          "base_uri": "https://localhost:8080/"
        },
        "id": "MogbyDhZI8hy",
        "outputId": "b087a54f-c9f7-4aa0-ad0f-19407f7ea827"
      },
      "source": [
        "# BFS 소스코드 구현\n",
        "def bfs(x, y):\n",
        "    # 큐(Queue) 구현을 위해 deque 라이브러리 사용\n",
        "    queue = deque()\n",
        "    queue.append((x, y))\n",
        "    # 큐가 빌 때까지 반복하기\n",
        "    while queue:\n",
        "        x, y =  queue.popleft()\n",
        "        # 현재 위치에서 4가지 방향으로의 위치 확인\n",
        "        for i in range(4):\n",
        "            nx = x + dx[i]\n",
        "            ny = y + dy[i]\n",
        "            # 미로 찾기 공간을 벗어난 경우 무시\n",
        "            if nx < 0 or nx >= n or ny < 0 or ny >= m:\n",
        "                continue\n",
        "            # 벽인 경우 무시\n",
        "            if graph[nx][ny] == 0:\n",
        "              continue\n",
        "            # 해당 노드를 처음 방문하는 경우에만 최단 거리 기록\n",
        "            if graph[nx][ny] == 1:\n",
        "                graph[nx][ny] = graph[x][y] + 1\n",
        "                queue.append((nx, ny))\n",
        "    # 가장 오른쪽 아래까지의 최단 거리 반환\n",
        "    return graph[n - 1][m - 1]\n",
        "\n",
        "\n",
        "from collections import deque\n",
        "\n",
        "# N, M을 공백을 기준으로 구분하여 입력 받기\n",
        "n,m = map(int,input().split())\n",
        "# 2차원 리스트의 맵 정보 입력 받기\n",
        "graph = []\n",
        "for i in range(n):\n",
        "    graph.append(list(map(int, input())))\n",
        "\n",
        "# 이동할 네 가지 방향 정의 (상,하,좌,우)\n",
        "dx = [-1, 1, 0, 0]\n",
        "dy = [0, 0, -1, 1]\n",
        "\n",
        "# BFS를 수행한 결과 출력\n",
        "print(bfs(0,0))"
      ],
      "execution_count": 9,
      "outputs": [
        {
          "output_type": "stream",
          "text": [
            "5 6\n",
            "101010\n",
            "111111\n",
            "000001\n",
            "111111\n",
            "111111\n",
            "10\n"
          ],
          "name": "stdout"
        }
      ]
    },
    {
      "cell_type": "code",
      "metadata": {
        "id": "41Eiq9V1OwCI"
      },
      "source": [
        ""
      ],
      "execution_count": null,
      "outputs": []
    }
  ]
}