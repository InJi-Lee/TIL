{
  "nbformat": 4,
  "nbformat_minor": 0,
  "metadata": {
    "colab": {
      "name": "09_최소 공통 조상.ipynb",
      "provenance": [],
      "collapsed_sections": []
    },
    "kernelspec": {
      "name": "python3",
      "display_name": "Python 3"
    },
    "language_info": {
      "name": "python"
    }
  },
  "cells": [
    {
      "cell_type": "markdown",
      "metadata": {
        "id": "vRWZ_2_XKcEq"
      },
      "source": [
        "# 최소 공통 조상: 트리에서의 최소 공통 조상을 찾는 알고리즘\n",
        "\n",
        "### 최소 공동 조상 찾기 알고리즘은 다음과 같습니다.<br>1. 모든 노드에 대한 깊이(depth)를 계산합니다.<br>2. 최소 공통 조상으 찾을 두 노드를 확인합니다.<br>1) 먼저 두 노드의 깊이가 동일하도록 거슬러 올라갑니다.<br>2) 이후에 부모가 같아질 때까지 반복적으로 두 노드의 부모 방향으로 거슬러 올라갑니다.<br>3. 모든 LCA(a,b) 연산에 대하여 2번의 과정을 반복합니다."
      ]
    },
    {
      "cell_type": "code",
      "metadata": {
        "id": "KPXfBmpfKXzk"
      },
      "source": [
        "import sys\n",
        "sys.setrecursionlimit(int(1e5))   # 런타임 오류를 피하기\n",
        "n = int(input())\n",
        "\n",
        "parent = [0] * (n + 1)    # 부모 노드 정보\n",
        "d = [0] * (n + 1)   # 각 노드까지의 깊이\n",
        "c = [0] * (n + 1)   # 각 노드의 깊이가 계산되었는지 여부\n",
        "graph = [[] for _ in range(n + 1)]    # 그래프 정보\n",
        "\n",
        "for _ in range(n - 1):\n",
        "    a, b = map(int, input().split())\n",
        "    graph[a].append(b)\n",
        "    graph[b].append(a)\n",
        "\n",
        "# 루트 노드부터 시작하여 깊이를 구하는 함수\n",
        "def dfs(x, depth):\n",
        "    c[x] = True\n",
        "    d[x] = depth\n",
        "    for y in graph[x]:\n",
        "        if c[y]:    # 이미 깊이를 구했다면 넘기기\n",
        "            continue\n",
        "        parent[y] = x\n",
        "        dfs(y, depth + 1)\n",
        "\n",
        "# A와 B의 최소 공통 조상을 찾는 함수\n",
        "def lca(a, b):\n",
        "    # 먼저 깊이가 동일하도록\n",
        "    while d[a] != d[b]:\n",
        "        if d[a] > d[b]:\n",
        "            a = parent[a]\n",
        "        else:\n",
        "            b= parent[b]\n",
        "    # 노드가 같아지도록\n",
        "    while a != b:\n",
        "        a = parent[a]\n",
        "        b = parent[b]\n",
        "    return a\n",
        "\n",
        "dfs(1, 0)    # 루트 노드는 1번 노드\n",
        "\n",
        "m = int(input())\n",
        "\n",
        "for i in range(m):\n",
        "    a, b = map(int, input().split())\n",
        "    print(lca(a, b))"
      ],
      "execution_count": null,
      "outputs": []
    },
    {
      "cell_type": "markdown",
      "metadata": {
        "id": "ki1DXAHYN77A"
      },
      "source": [
        "### 기본적인 최소 공통 조상 (LCA) 알고리즘: 시간 복잡도 분석\n",
        "- 매 쿼리마다 부모 방향으로 거슬러 올라가기 위해 최악의 경우 O(N)의 시간 복잡도가 요구됩니다.\n",
        "- 따라서 모든 쿼리를 처리할 때의 시간 복잡도는 O(NM)입니다.\n",
        "***"
      ]
    },
    {
      "cell_type": "markdown",
      "metadata": {
        "id": "dEBve_XbPdkS"
      },
      "source": [
        "### 개선된 최소 공통 조상 알고리즘\n",
        "- 다이나믹 프로그래밍(dynamic programming)을 이용해 시간 복잡도를 개선할 수 있습니다.\n",
        "- 세그먼트 트리를 이용하는 방법도 존재합니다.\n",
        "- 매 쿼리마다 부모를 거슬러 올라가기 위해 O(logN)의 복잡도가 필요합니다.\n",
        "- 따라서 모든 쿼리를 처리할 때의 시간 복잡도는 O(MlogN)입니다."
      ]
    },
    {
      "cell_type": "code",
      "metadata": {
        "id": "1LR8SifROCzC"
      },
      "source": [
        "import sys\n",
        "input = sys.stdin.readline    # 시간 초과를 피하기 위한 빠른 입력 함수\n",
        "sys.setrecursionlimit(int(1e5))   # 런타임 오류를 피하기 위한 재귀 깊이 제한 설정\n",
        "LOG = 21    # 2^20 = 1,000,000\n",
        "\n",
        "n = int(input())\n",
        "parent = [[0] * LOG for _ in range(n + 1)]    # 부모 노드 정보\n",
        "d = [0] * (n + 1)   # 각 노드까지의 깊이\n",
        "c = [0] * (n + 1)   # 각 노드의 깊이가 계산되었는지 여부\n",
        "graph = [[] for _ in range(n + 1)]    # 그래프 정보\n",
        "\n",
        "for _ in range(n - 1):\n",
        "    a, b = map(int, input().split())\n",
        "    graph[a].append(b)\n",
        "    graph[b].append(a)\n",
        "\n",
        "# 루트 노드부터 시작하여 깊이를 구하는 함수\n",
        "def dfs(x, depth):\n",
        "    c[x] = True\n",
        "    d[x] = depth\n",
        "    for y in graph[x]:\n",
        "        if c[y]:    # 이미 깊이를 구했다면 넘기기\n",
        "            continue\n",
        "        parent[y][0] = x\n",
        "        dfs(y, depth + 1)\n",
        "\n",
        "# 전체 부모 관계를 설정하는 함수\n",
        "def set_parnet():\n",
        "    dfs(1, 0)     # 루트 노드는 1번 노드\n",
        "    for i in range(1, LOG):\n",
        "        for j in range(1, n + 1):\n",
        "            parent[j][i] = parent[parent[j][i - 1]][i - 1]\n",
        "\n",
        "# A와 B의 최소 공통 조상을 찾는 함수\n",
        "def lca(a, b):\n",
        "    # b가 더 깊도록 설정\n",
        "    if d[a] > d[b]:\n",
        "        a, b = b, a\n",
        "    # 먼저 깊이가 동일하도록\n",
        "    for i in range(LOG - 1, -1, -1):\n",
        "        if d[b] - d[a] >= (1 << i):\n",
        "            b = parent[b][i]\n",
        "        # 부모가 같아지도록\n",
        "        if a == b:\n",
        "            return a;\n",
        "        for i in range(LOG -1, -1, -1):\n",
        "            # 조상을 향해 거슬러 올라가기\n",
        "            if parent[a][i] != parent[b][i]:\n",
        "                a = parent[a][i]\n",
        "                b = parent[b][i]\n",
        "        # 이후에 부모가 찾고자 하는 조상\n",
        "        return parent[a][0]\n",
        "\n",
        "set_parent()\n",
        "\n",
        "m = int(input())\n",
        "\n",
        "for i in range(m):\n",
        "    a, b = map(int, input().split())\n",
        "    print(lca(a, b))"
      ],
      "execution_count": null,
      "outputs": []
    }
  ]
}