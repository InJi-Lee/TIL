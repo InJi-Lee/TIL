{
  "nbformat": 4,
  "nbformat_minor": 0,
  "metadata": {
    "colab": {
      "name": "Union Find_자료구조.ipynb",
      "provenance": [],
      "collapsed_sections": []
    },
    "kernelspec": {
      "name": "python3",
      "display_name": "Python 3"
    },
    "language_info": {
      "name": "python"
    }
  },
  "cells": [
    {
      "cell_type": "markdown",
      "metadata": {
        "id": "feny6mzZNE30"
      },
      "source": [
        "## Union Find(합치기 찾기) 자료구조 ( = 서로소 집합 자료구조)\n",
        "- 서로소 부분 집합들로 나누어진 원소들의 데이터를 처리하기 위한 자료구조입니다.\n",
        "- 서로소 집합 자료구조는 두 종류의 연산을 지원합니다.<br>합집합(Union): 두 개의 원소가 포함된 집합을 하나의 집합으로 합치는 연산<br>찾기(Find): 특정한 원소가 속한 집합이 어떤 집합인지 알려주는 연산\n",
        "***"
      ]
    },
    {
      "cell_type": "markdown",
      "metadata": {
        "id": "7_DFtterN2Ir"
      },
      "source": [
        "#### 여러 개의 합치기 연산이 주어졌을 때 서로소 집합 자료구조의 동작 과정은 다음과 같습니다.\n",
        "##### 1. 합집합(Union) 연산을 확인하여, 서로 연결된 두 노드 A, B를 확인합니다.<br>1) A와 B의 루트노드 A', B'를 각각 찾습니다.<br>2) A'를 B'의 부모 노드로 설정합니다.\n",
        "##### 2. 모든 합집합(Union) 연산을 처리할 때까지 1번의 과정을 반복합니다."
      ]
    },
    {
      "cell_type": "markdown",
      "metadata": {
        "id": "giZjiz93Pvrm"
      },
      "source": [
        "#### 서로소 집합 자료구조: 기본적인 구현 방법(Python)"
      ]
    },
    {
      "cell_type": "code",
      "metadata": {
        "id": "OSD3hiViM6lv"
      },
      "source": [
        "'''\n",
        "# 특정 원소가 속한 집합을 찾기\n",
        "def ind_parent(parent, x):\n",
        "    # 루트 노드를 찾을 때까지 재귀 호출\n",
        "    if parent[x] != x:\n",
        "        return find_parent(parent, parent[x])\n",
        "    return x\n",
        "\n",
        "# 두 원소가 속한 집합을 합치기\n",
        "def union_parent(parent, a, b):\n",
        "    a = find_parent(parent, a)\n",
        "    b = find_parent(parent, b)\n",
        "    if a < b:\n",
        "        parent[b] = a\n",
        "    else:\n",
        "        parent[a] = b\n",
        "\n",
        "# 노드의 개수와 간선(Union 연산)의 개수 입력 받기\n",
        "v, e = map(int, input().split())\n",
        "parent = [0] * (v + 1)    # 부모 테이블 초기화하기\n",
        "\n",
        "# 부모 테이블상에서, 부모를 자기 자신으로 초기화\n",
        "for i in range(1, v + 1):\n",
        "    parent[i] = i\n",
        "\n",
        "# Union 연산을 각각 수행\n",
        "for i in range(e):\n",
        "    a, b = map(int, input().split())\n",
        "    union_parent(parent, a, b)\n",
        "\n",
        "# 각 원소가 속한 집합 출력하기\n",
        "print('각 원소가 속한 집합: ', end='')\n",
        "for i in range(1, v + 1):\n",
        "    print(find_parent(parent, i), end=' ')\n",
        "\n",
        "print()\n",
        "\n",
        "# 부모 테이블 내용 출력하기\n",
        "print('부모 테이블: ', end='')\n",
        "for i in range(1, v + 1):\n",
        "    print(parent[i], end=' ')\n",
        "'''"
      ],
      "execution_count": null,
      "outputs": []
    },
    {
      "cell_type": "markdown",
      "metadata": {
        "id": "8rPTrITbTCx_"
      },
      "source": [
        "- 합집합 연산이 편향되게 이루어지는 경우 찾기 함수가 비효율적으로 동작합니다.\n",
        "- 회악의 경우에는 찾기 함수가 모든 노드를 다 확인하게 되어 시간 복잡도가 O(V)입니다.\n",
        "- 경로 압축 기법을 적용하면 각 노드에 대하여 찾기 함수를 호출한 이후에 해당 노드의 루트 노드가 바로 부모 노드가 됩니다."
      ]
    },
    {
      "cell_type": "markdown",
      "metadata": {
        "id": "qj6xzcudT5Co"
      },
      "source": [
        "#### 경로 압축"
      ]
    },
    {
      "cell_type": "code",
      "metadata": {
        "id": "7xT7ET5MTMoL"
      },
      "source": [
        "'''\n",
        "[[[[# 특정 원소가 속한 집합을 찾기\n",
        "def ind_parent(parent, x):\n",
        "    # 루트 노드를 찾을 때까지 재귀 호출\n",
        "    if parent[x] != x:\n",
        "        parent[x] = find_parent(parent, parent[x])\n",
        "    return parent[x] ]]]]    ----> 경로 압축\n",
        "\n",
        "# 두 원소가 속한 집합을 합치기\n",
        "def union_parent(parent, a, b):\n",
        "    a = find_parent(parent, a)\n",
        "    b = find_parent(parent, b)\n",
        "    if a < b:\n",
        "        parent[b] = a\n",
        "    else:\n",
        "        parent[a] = b\n",
        "\n",
        "# 노드의 개수와 간선(Union 연산)의 개수 입력 받기\n",
        "v, e = map(int, input().split())\n",
        "parent = [0] * (v + 1)    # 부모 테이블 초기화하기\n",
        "\n",
        "# 부모 테이블상에서, 부모를 자기 자신으로 초기화\n",
        "for i in range(1, v + 1):\n",
        "    parent[i] = i\n",
        "\n",
        "# Union 연산을 각각 수행\n",
        "for i in range(e):\n",
        "    a, b = map(int, input().split())\n",
        "    union_parent(parent, a, b)\n",
        "\n",
        "# 각 원소가 속한 집합 출력하기\n",
        "print('각 원소가 속한 집합: ', end='')\n",
        "for i in range(1, v + 1):\n",
        "    print(find_parent(parent, i), end=' ')\n",
        "\n",
        "print()\n",
        "\n",
        "# 부모 테이블 내용 출력하기\n",
        "print('부모 테이블: ', end='')\n",
        "for i in range(1, v + 1):\n",
        "    print(parent[i], end=' ')\n",
        "'''"
      ],
      "execution_count": null,
      "outputs": []
    },
    {
      "cell_type": "markdown",
      "metadata": {
        "id": "HSXYTcB2Uf7t"
      },
      "source": [
        "#### 서로소 집합을 활용한 사이클 판별\n",
        "##### 서로소 집합은 무방향 그래프 내에서의 사이클을 판별할 때 사용할 수 있습니다.<br>참고로 방향 그래프에서의 사이클 여부는 DFS를 이용하여 판별할 수 있습니다.\n",
        "##### 사이클 판별 알고리즘은 다음과 같습니다.<br>1. 각 간선을 하나씩 확인하며 두 노드의 루트 노드를 확인합니다.<br>1) 루트 노드가 서로 다르다면 두 노드에 대하여 합집합(Union) 연산을 수행합니다.<br>2) 루트 노드가 서로 같다면 사이클(Cycle)이 발생한 것입니다.<br>2. 그래프에 포함되어 있는 모든 간선에 대하여 1번 과정을 반복합니다."
      ]
    },
    {
      "cell_type": "code",
      "metadata": {
        "id": "F_JLHOpdVVEY"
      },
      "source": [
        "'''\n",
        "# 특정 원소가 속한 집합을 찾기\n",
        "def ind_parent(parent, x):\n",
        "    # 루트 노드를 찾을 때까지 재귀 호출\n",
        "    if parent[x] != x:\n",
        "        parent[x] = find_parent(parent, parent[x])\n",
        "    return parent[x]\n",
        "\n",
        "# 두 원소가 속한 집합을 합치기\n",
        "def union_parent(parent, a, b):\n",
        "    a = find_parent(parent, a)\n",
        "    b = find_parent(parent, b)\n",
        "    if a < b:\n",
        "        parent[b] = a\n",
        "    else:\n",
        "        parent[a] = b\n",
        "\n",
        "# 노드의 개수와 간선(Union 연산)의 개수 입력 받기\n",
        "v, e = map(int, input().split())\n",
        "parent = [0] * (v + 1)    # 부모 테이블 초기화하기\n",
        "\n",
        "# 부모 테이블상에서, 부모를 자기 자신으로 초기화\n",
        "for i in range(1, v + 1):\n",
        "    parent[i] = i\n",
        "\n",
        "cycle = False   # 사이클 발생 여부\n",
        "\n",
        "for i in range(e):\n",
        "    a, b = map(int, input().split())\n",
        "    # 사이클이 발생한 경우 종료\n",
        "    if find_parent(parent, a) == find_parent(parent, b):\n",
        "        cycle = True\n",
        "        break\n",
        "    # 사이클이 발생하지 않았다면 합집합 연산 수행\n",
        "    else:\n",
        "        union_parent(parent, a, b)\n",
        "\n",
        "if cycle:\n",
        "    print(\"사이클이 발생했습니다.\")\n",
        "else: \n",
        "    print(\"사이클이 발생하지 않았습니다.\")\n",
        "\n",
        "'''"
      ],
      "execution_count": null,
      "outputs": []
    }
  ]
}