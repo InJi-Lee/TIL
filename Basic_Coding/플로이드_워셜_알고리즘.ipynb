{
  "nbformat": 4,
  "nbformat_minor": 0,
  "metadata": {
    "colab": {
      "name": "플로이드 워셜 알고리즘.ipynb",
      "provenance": [],
      "collapsed_sections": []
    },
    "kernelspec": {
      "name": "python3",
      "display_name": "Python 3"
    },
    "language_info": {
      "name": "python"
    }
  },
  "cells": [
    {
      "cell_type": "markdown",
      "metadata": {
        "id": "xzAL3m-Y_HwX"
      },
      "source": [
        "- 모든 노드에서 다른 모든 노드까지의 최단 경로를 모두 계산합니다.\n",
        "- 플로이드 워셜 알고리즘은 다익스트라 알고리즘과 마찬가지로 단계별로 거쳐 가는 노드를 기준으로 알고리즘을 수행합니다.<br>다만, 매 단계마다 방문하지 않은 노드 중에 최단 거리를 갖는 노드를 찾는 과정이 필요하지 않습니다.\n",
        "- 플로이드 워셜은 2차원 테이블에 최단 거리 정보를 저장합니다.\n",
        "- 플로이드 워셜 알고리즘은 다이나믹 프로그래밍 유형에 속합니다.\n",
        "***\n",
        "- 각 단계마다 특정한 노드 k를 거쳐 가는 경우를 확인합니다. a에서 b로 가는 최단 거리보다 a에서 k를 거쳐 b로 가는 거리가 더 짧은지 검사합니다.<br> D<sub>ab</sub> = min(D<sub>ab</sub>, D<sub>ak</sub> + D<sub>kb</sub>)"
      ]
    },
    {
      "cell_type": "code",
      "metadata": {
        "id": "pBJ8M5mlxTul"
      },
      "source": [
        "'''\n",
        "INF = int(1e9)    # 무한을 의미하는 값으로 10억을 설정\n",
        "\n",
        "# 노드의 개수 및 간선의 개수를 입력받기\n",
        "n = int(input())\n",
        "m = int(input())\n",
        "# 2차원 리스트(그래프 표현)를 만들고, 무한으로 초기화\n",
        "graph = [[INF] * (n + 1) for _ in range(n + 1)]\n",
        "\n",
        "# 자기 자신에서 자기 자신으로 가는 비용은 0으로 초기화\n",
        "for a in range(1, n + 1):\n",
        "    for b in rnage(1, n + 1):\n",
        "        if a == b:\n",
        "            graph[a][b] = 0\n",
        "\n",
        "# 각 간선에 대한 정보를 입력 받아, 그 값으로 초기화\n",
        "for _ in range(m):\n",
        "    # A에서 B로 가는 비용은 C라고 설정\n",
        "    a, b, c = map(int, input().split())\n",
        "    graph[a][b] = c\n",
        "\n",
        "# 점화식에 따라 플로이드 위셜 알고리즘을 수행\n",
        "for k in range(1, n + 1):\n",
        "    for a in range(1, n + 1):\n",
        "        for b in range(1, n + 1):\n",
        "            graph[a][b] = min(graph[a][b], graph[a][k] + graph[k][b])\n",
        "\n",
        "# 수행된 결과를 출력\n",
        "for a in range(1, n + 1):\n",
        "    for b in range(1, n + 1):\n",
        "        # 도달할 수 없는 경우, 무한(INFINITY)이라고 출력\n",
        "        if graph[a][b] == INF:\n",
        "            print(\"INFINITY\", end=\" \")\n",
        "        # 도달할 수 있는 경우 거리를 출력\n",
        "        else:\n",
        "            print(graph[a][b], end=\" \")\n",
        "    print()\n",
        "'''"
      ],
      "execution_count": null,
      "outputs": []
    },
    {
      "cell_type": "markdown",
      "metadata": {
        "id": "CMvkvFF7FcnA"
      },
      "source": [
        "### 플로이드 워셜 알고리즘 성능 분석\n",
        "- 노드의 개수가 N개일 때 알고리즘상으로 N번의 단계를 수행합니다.\n",
        "- 각 단계마다 O(N<sup>2</sup>)의 연산을 통해 노드를 거쳐 가는 모든 경로를 고려합니다.\n",
        "- 따라서 플로이드 워셜 알고리즘의 총 시간 복잡도는 O(N<sup>3</sup>)입니다."
      ]
    },
    {
      "cell_type": "code",
      "metadata": {
        "id": "Yh9OmmW1EjWd"
      },
      "source": [
        ""
      ],
      "execution_count": null,
      "outputs": []
    }
  ]
}