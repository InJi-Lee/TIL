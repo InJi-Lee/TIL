{
  "nbformat": 4,
  "nbformat_minor": 0,
  "metadata": {
    "colab": {
      "name": "선택 정렬과 삽입 정렬.ipynb",
      "provenance": [],
      "collapsed_sections": []
    },
    "kernelspec": {
      "name": "python3",
      "display_name": "Python 3"
    },
    "language_info": {
      "name": "python"
    }
  },
  "cells": [
    {
      "cell_type": "markdown",
      "metadata": {
        "id": "ph9y2dFzWyyC"
      },
      "source": [
        "### 선택 정렬 소스코드\n",
        "- 선택 정렬은 N번 만큼 가장 작은 수를 찾아서 맨 앞으로 보내야 함\n",
        "- 구현 방식에 따라 오차는 있을 수 있지만, 전체 연산 횟수는 다음과 같음<br>N + (N - 1) + (N - 2) + ... + 2\n",
        "- 이는 (N^2 + N - 2)로 표현할 수 있는데, 빅오 표기법에 따라서 O(N^2)라고 작성함"
      ]
    },
    {
      "cell_type": "code",
      "metadata": {
        "colab": {
          "base_uri": "https://localhost:8080/"
        },
        "id": "SPFk24zIWNDc",
        "outputId": "0ea81da9-8eab-46b9-e354-acc860aa003c"
      },
      "source": [
        "array = [7, 5, 9, 0, 3, 1, 6, 2, 4, 8]\n",
        "\n",
        "for i in range(len(array)):\n",
        "    min_index = i   # 가장 작은 원소\n",
        "    for k in range(i + 1, len(array)):\n",
        "        if array[min_index] > array[k]:\n",
        "            min_index = k\n",
        "    array[i], array[min_index] = array[min_index], array[i]   # 스와프\n",
        "\n",
        "print(array)"
      ],
      "execution_count": 1,
      "outputs": [
        {
          "output_type": "stream",
          "text": [
            "[0, 1, 2, 3, 4, 5, 6, 7, 8, 9]\n"
          ],
          "name": "stdout"
        }
      ]
    },
    {
      "cell_type": "markdown",
      "metadata": {
        "id": "PsxEmA6weI4Q"
      },
      "source": [
        "### 삽입 정렬 소스코드\n",
        "- 삽입 정렬의 시간 복잡도는 O(N^2), 선택 정렬과 마찬가지로 반복문이 두 번 중첩되어 사용됨\n",
        "- 현재 리스트의 데이터가 거의 정렬되어 있는 상태라면 매우 빠르게 동작함\n",
        "- 최선의 경우 O(N)의 시간 복잡도를 가짐"
      ]
    },
    {
      "cell_type": "code",
      "metadata": {
        "colab": {
          "base_uri": "https://localhost:8080/"
        },
        "id": "2w4b7Cc_d6Su",
        "outputId": "98333272-b9f8-43d9-d350-beaa0ec5e4da"
      },
      "source": [
        "array = [7, 5, 9, 0, 3, 1, 6, 2, 4, 8]\n",
        "\n",
        "for i in range(1, len(array)):\n",
        "    for k in range(i, 0, -1):   # 인덱스 i부터 1까지 1씩 감소하며 반복하는 문법\n",
        "        if array[k] < array[k - 1]:   # 한 칸씩 왼쪽으로 이동\n",
        "            array[k], array[k - 1] = array[k - 1], array[k]\n",
        "        else:   # 자기보다 작은 데이터를 만나면 그 위치에서 멈춤\n",
        "            break\n",
        "\n",
        "print(array)\n"
      ],
      "execution_count": 3,
      "outputs": [
        {
          "output_type": "stream",
          "text": [
            "[0, 1, 2, 3, 4, 5, 6, 7, 8, 9]\n"
          ],
          "name": "stdout"
        }
      ]
    },
    {
      "cell_type": "markdown",
      "metadata": {
        "id": "JNSdLvFlh0--"
      },
      "source": [
        "### 퀵 정렬\n",
        "- 기준 데이터를 설정하고, 그 기준보다 큰 데이터와 작은 데이터의 위치를 바꾸는 방법\n",
        "- 이상적인 경우 분할이 절반씩 일어난다면 전체 연산 횟수로 O(NlogN)를 기대할 수 있음<br>너비 X 높이 = N x logN\n",
        "- 최악의 경우 O(N^2)의 시간 복잡도를 가짐"
      ]
    },
    {
      "cell_type": "code",
      "metadata": {
        "colab": {
          "base_uri": "https://localhost:8080/"
        },
        "id": "qrH0hki4n1wE",
        "outputId": "2931a91c-1da0-4ed6-e53c-2c971f8f09aa"
      },
      "source": [
        "array = [5, 7, 9, 0, 3, 1, 6, 2, 4, 8]\n",
        "\n",
        "def quick_sort(array, start, end):\n",
        "    if start >= end:    # 원소가 1개인 경우 종료\n",
        "        return\n",
        "    pivot = start   # 피벗은 첫 번째 원소\n",
        "    left = start + 1\n",
        "    right = end\n",
        "    while(left <= right):\n",
        "          # 피벗보다 큰 데이터를 찾을 때까지 반복\n",
        "          while(left <= end and array[left] <= array[pivot]):\n",
        "              left += 1\n",
        "          # 피벗보다 작은 데이터를 찾을 때까지 반복\n",
        "          while(right > start and array[right] >= array[pivot]):\n",
        "              right -= 1\n",
        "          if(left > right):   # 엇갈렸다면 작은 데이터와 피벗을 교체\n",
        "              array[right], array[pivot] = array[pivot], array[right]\n",
        "          else: # 엇갈리지 않았다면 작은 데이터와 큰 데이터를 교체\n",
        "               array[left], array[right] = array[right], array[left]\n",
        "      # 분할 이후 왼쪽 부분과 오른쪽 부분에서 각각 정렬 수행\n",
        "    quick_sort(array, start, right - 1)\n",
        "    quick_sort(array, right + 1, end)\n",
        "\n",
        "quick_sort(array, 0, len(array) - 1)\n",
        "print(array)"
      ],
      "execution_count": 12,
      "outputs": [
        {
          "output_type": "stream",
          "text": [
            "[0, 1, 2, 3, 4, 5, 6, 7, 8, 9]\n"
          ],
          "name": "stdout"
        }
      ]
    },
    {
      "cell_type": "code",
      "metadata": {
        "colab": {
          "base_uri": "https://localhost:8080/"
        },
        "id": "-iHvhAs7l4vO",
        "outputId": "a8759113-2299-410d-8009-8d57bcc76b55"
      },
      "source": [
        "array = [5, 7, 9, 0, 3, 1, 6, 2, 4, 8]\n",
        "\n",
        "def quick_sort(array):\n",
        "    # 리스트가 하나 이하의 원소만을 담고 있다면 종료\n",
        "    if len(array) <= 1:\n",
        "        return array\n",
        "    pivot = array[0]  # 피벗은 첫 번째 원소\n",
        "    tail = array[1:]  # 피벗을 제외한 리스트\n",
        "\n",
        "    left_side = [x for x in tail if x <= pivot]   # 분할된 왼쪽 부분\n",
        "    right_side = [x for x in tail if x > pivot]   # 분할된 오른쪽 부분\n",
        "\n",
        "    # 분할 이후 왼쪽 부분과 오른쪽 부분에서 각각 정렬 수행하고, 전체 리스트 반환\n",
        "    return quick_sort(left_side) + [pivot] + quick_sort(right_side)\n",
        "\n",
        "print(quick_sort(array))"
      ],
      "execution_count": 13,
      "outputs": [
        {
          "output_type": "stream",
          "text": [
            "[0, 1, 2, 3, 4, 5, 6, 7, 8, 9]\n"
          ],
          "name": "stdout"
        }
      ]
    },
    {
      "cell_type": "markdown",
      "metadata": {
        "id": "DpL0cd91wTqW"
      },
      "source": [
        "### 계수 정렬\n",
        "- 특정한 조건이 부합할 때만 사용할 수 있지만 매우 빠르게 동작하는 정렬 알고리즘\n",
        "- 데이터의 크기 범위가 제한되어 정수 형태로 표현할 수 있을 때 사용 가능\n",
        "- 데이터의 개수가 N, 데이터(양수) 중 최댓값이 K일 때 최악의 경우에도 수행 시간 O(N + K)를 보장함\n",
        "***\n",
        "- 계수 정렬의 시간 복잡도와 공간 복잡도는 모두 O(N + K)\n",
        "- 계수 정렬은 때에 따라서 심각한 비효율성을 초래할 수 있음<br>EX) 0과 999,999로 단 2개만 존재하는 경우\n",
        "- 계수 정렬은 동일한 값을 가지는 데이터가 여러 개 등장할 때 효과적으로 사용할 수 있음\n"
      ]
    },
    {
      "cell_type": "code",
      "metadata": {
        "colab": {
          "base_uri": "https://localhost:8080/"
        },
        "id": "1TWJfdt6r9ry",
        "outputId": "ea979bee-3f48-483b-ab4c-e4cf92871590"
      },
      "source": [
        "# 모든 원소의 값이 0보다 크거나 같다고 가정\n",
        "array = [7, 5, 9, 0, 3, 1, 6, 2, 9, 1, 4, 8, 0, 5, 2]\n",
        "# 모든 범위를 포함하는 리스트 선언(모든 값은 0으로 초기화)\n",
        "count =[0] * (max(array) + 1)\n",
        "\n",
        "for i in range(len(array)):\n",
        "    count[array[i]] += 1    # 각 데이터에 해당하는 인덱스의 값 증가\n",
        "\n",
        "for i in range(len(count)):   # 리스트에 기록된 정렬 정보 확인\n",
        "    for k in range(count[i]):\n",
        "        print(i, end=' ')   # 띄어쓰기를 구부능로 등장한 횟수만큼 인덱스 출력"
      ],
      "execution_count": 14,
      "outputs": [
        {
          "output_type": "stream",
          "text": [
            "0 0 1 1 2 2 3 4 5 5 6 7 8 9 9 "
          ],
          "name": "stdout"
        }
      ]
    },
    {
      "cell_type": "markdown",
      "metadata": {
        "id": "lSLOHZoHzprU"
      },
      "source": [
        "## 정렬 알고리즘 비교하기\n",
        "- 선택 정렬 /O(N^2) /O(N) /아이디어가 매우 간단함\n",
        "- 삽입 정렬 /O(N^2) /O(N) /데이터가 거의 정렬되어 있을 때는 가장 빠름\n",
        "- 퀵 정렬 /O(NlogN) /O(N) /대부분의 경우에 가장 적합, 충분히 빠름\n",
        "- 계수 정렬 /O(N + K) /O(N + K) /데이터의 크기가 한정되어 있는 경우에만 사용이 가능하지만 매우 빠르게 동작"
      ]
    },
    {
      "cell_type": "markdown",
      "metadata": {
        "id": "rSd0Gqrt0ry_"
      },
      "source": [
        "### 선택 정렬과 기본 정렬 라이브러리 수행 시간 비교"
      ]
    },
    {
      "cell_type": "code",
      "metadata": {
        "colab": {
          "base_uri": "https://localhost:8080/"
        },
        "id": "3lhYHU2-yIAo",
        "outputId": "6f3fe7c2-5256-4da9-ceed-ef92d9a47b19"
      },
      "source": [
        "from random import randint\n",
        "import time\n",
        "\n",
        "# 배열에 10,000개의 정수를 삽입\n",
        "array = []\n",
        "for _ in range(10000):\n",
        "    # 1부터 100 사이의 랜덤한 정수\n",
        "    array.append(randint(1, 100))\n",
        "\n",
        "# 선택 정렬 프로그램 성능 측정\n",
        "start_time = time.time()\n",
        "\n",
        "# 선택 정렬 프로그램 소스코드\n",
        "for i in range(len(array)):\n",
        "    min_index = i   # 가장 작은 원소의 인덱스\n",
        "    for j in range(i + 1, len(array)):\n",
        "        if array[min_index] > array[j]:\n",
        "            min_index = j\n",
        "    array[i], array[min_index] = array[min_index], array[i]\n",
        "\n",
        "# 측정 종료\n",
        "end_time = time.time()\n",
        "# 수행 시간 출력\n",
        "print(\"선택 정렬 성능 측정:\", end_time - start_time)\n",
        "\n",
        "# 배열을 다시 무작위 데이터로 초기화\n",
        "array = []\n",
        "for _ in range(10000):\n",
        "    # 1부터 100 사이의 랜덤한 정수\n",
        "    array.append(randint(1, 100))\n",
        "\n",
        "# 기본 정렬 라이브러리 성능 측정\n",
        "start_time =  time.time()\n",
        "\n",
        "# 기본 정렬 라이브러리 사용\n",
        "array.sort()\n",
        "\n",
        "# 측정 종료\n",
        "end_time = time.time()\n",
        "# 수행 시간 출력\n",
        "print(\"기본 정렬 라이브러리 성능 측정:\", end_time - start_time)"
      ],
      "execution_count": 17,
      "outputs": [
        {
          "output_type": "stream",
          "text": [
            "선택 정렬 성능 측정: 8.623069524765015\n",
            "기본 정렬 라이브러리 성능 측정: 0.0016243457794189453\n"
          ],
          "name": "stdout"
        }
      ]
    },
    {
      "cell_type": "markdown",
      "metadata": {
        "id": "bTQmL2bD3Y-T"
      },
      "source": [
        "## Ex) 두 배열의 원소 교체\n",
        "### 입력 조건\n",
        "- 첫 번째 줄에 N, K가 공백을 기준으로 구분되어 입력됩니다.(1 <= N <= 100,000,0 <=K <= N)\n",
        "- 두 번째 줄에 배열 A의 원소들이 공백을 기준으로 구분되어 입렵됩니다. 모든 원소는 10,000,000보다 작은 자연수입니다.\n",
        "- 세 번째 줄에 배열 B의 원소들이 공백을 기준으로 구분되어 입력됩니다. 모든 원소는 10,000,000보다 작은 자연수입니다.\n",
        "***\n",
        "### 출력 조건\n",
        "- 최대 K번의 바꿔치기 연산을 수행하여 만들 수 있는 배열 A의 모든 원소의 합의 최댓값을 출력합니다.\n",
        "***"
      ]
    },
    {
      "cell_type": "markdown",
      "metadata": {
        "id": "TOHI3Lb57RUJ"
      },
      "source": [
        "- 입력 예시<br>5 3<br>1 2 5 4 3<br>5 5 6 6 5\n",
        "- 출력 예시<br>26"
      ]
    },
    {
      "cell_type": "code",
      "metadata": {
        "colab": {
          "base_uri": "https://localhost:8080/"
        },
        "id": "ybDclDeX2anN",
        "outputId": "02e7884d-7741-41ff-f67b-d733a92fd131"
      },
      "source": [
        "n, k = map(int, input().split())    # N과 K를 입력 받기\n",
        "a = list(map(int, input().split()))   # 배열 A의 모든 원소를 입력 받기\n",
        "b = list(map(int, input().split()))   # 배열 B의 모든 원소를 입력 받기\n",
        "\n",
        "a.sort()    # 배열 A는 오름차순 정렬 수행\n",
        "b.sort(reverse=True)    # 배열 B는 내림차순 정렬 수행\n",
        "\n",
        "# 첫 번째 인덱스부터 확인하며, 두 배열의 원소를 최대 K번 비교\n",
        "for i in range(k):\n",
        "    # A의 원소가 B의 원소보다 작은 경우\n",
        "    if a[i] < b[i]:\n",
        "        # 두 원소를 교체\n",
        "        a[i], b[i] = b[i], a[i]\n",
        "    else:   # A의 원소가 B의 원소보다 크거나 같을 때, 반복문을 탈출\n",
        "        break\n",
        "\n",
        "print(sum(a))   # 배열 A의 모든 원소의 합을 출력"
      ],
      "execution_count": 19,
      "outputs": [
        {
          "output_type": "stream",
          "text": [
            "5 3\n",
            "1 2 5 4 3\n",
            "5 5 6 6 5\n",
            "26\n"
          ],
          "name": "stdout"
        }
      ]
    },
    {
      "cell_type": "code",
      "metadata": {
        "id": "pIvj9NDh8wNg"
      },
      "source": [
        ""
      ],
      "execution_count": null,
      "outputs": []
    }
  ]
}