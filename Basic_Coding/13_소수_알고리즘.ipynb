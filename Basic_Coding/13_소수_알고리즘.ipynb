{
  "nbformat": 4,
  "nbformat_minor": 0,
  "metadata": {
    "colab": {
      "name": "13_소수_알고리즘.ipynb",
      "provenance": [],
      "collapsed_sections": []
    },
    "kernelspec": {
      "name": "python3",
      "display_name": "Python 3"
    },
    "language_info": {
      "name": "python"
    }
  },
  "cells": [
    {
      "cell_type": "markdown",
      "metadata": {
        "id": "5XdVTLTD3CrD"
      },
      "source": [
        "# 소수(Prime Number)\n",
        "- 2부터 X-1까지의 모든 자연수에 대하여 연산을 수행해야 합니다.\n",
        "- 모든 수를 하나씩 확인한다는 점에서 시간 복잡도는 O(X)입니다."
      ]
    },
    {
      "cell_type": "markdown",
      "metadata": {
        "id": "g4ecrVFq4eqO"
      },
      "source": [
        "### 소수 판별"
      ]
    },
    {
      "cell_type": "code",
      "metadata": {
        "colab": {
          "base_uri": "https://localhost:8080/"
        },
        "id": "ywLuCv3a3ABY",
        "outputId": "2518c7f4-9032-445e-9987-91816048870f"
      },
      "source": [
        "# 소수 판별 함수(2이상의 자연수에 대하여)\n",
        "def is_prime_number(x):\n",
        "    # 2부터 (x - 1)까지의 모든 수를 확인하며\n",
        "    for i in  range(2, x):\n",
        "        # x가 해당 수로 나누어떨어진다면\n",
        "        if x % i == 0:\n",
        "            return False    # 소수가 아님\n",
        "    return True   # 소수임\n",
        "\n",
        "print(is_prime_number(4))\n",
        "print(is_prime_number(7))"
      ],
      "execution_count": 2,
      "outputs": [
        {
          "output_type": "stream",
          "text": [
            "False\n",
            "True\n"
          ],
          "name": "stdout"
        }
      ]
    },
    {
      "cell_type": "markdown",
      "metadata": {
        "id": "NYNVosby5V0h"
      },
      "source": [
        "### 소수 판별: 개선된 알고리즘\n",
        "- 2부터 X의 제곱근(소수점 이하 무시)까지의 모든 자연수에 대하여 연산을 수행해야 합니다.\n",
        "-시간 복잡도는 O(N<sup>1/2</sup>)입니다."
      ]
    },
    {
      "cell_type": "code",
      "metadata": {
        "colab": {
          "base_uri": "https://localhost:8080/"
        },
        "id": "GukkKeGD3361",
        "outputId": "f95d7f41-959c-46b4-a21b-b37b2093aa71"
      },
      "source": [
        "import math\n",
        "\n",
        "# 소수 판별 함수 (2이상의 자연수에 대하여)\n",
        "def is_prime_number(x):\n",
        "    # 2부터 x의 제곱근까지의 모든 수를 확인하며\n",
        "    for i in range(2, int(math.sqrt(x)) + 1):\n",
        "        # x가 해당 수로 나누어떨어진다면\n",
        "        if x % i == 0:\n",
        "            return False  # 소수가 아님\n",
        "    return True   # 소수임\n",
        "\n",
        "print(is_prime_number(4))\n",
        "print(is_prime_number(7))"
      ],
      "execution_count": 3,
      "outputs": [
        {
          "output_type": "stream",
          "text": [
            "False\n",
            "True\n"
          ],
          "name": "stdout"
        }
      ]
    },
    {
      "cell_type": "markdown",
      "metadata": {
        "id": "0I6IIswg8Zm9"
      },
      "source": [
        "### 에라토스테네스의 알고리즘\n",
        "- 다수의 자연수에 대하여 소수 여부를 판별할 때 사용하는 대표적인 알고리즘입니다.\n",
        "- N보다 작거나 같은 모든 소수를 찾을 때 사용할 수 있습니다.\n",
        "- 동작과정<br>1. 2부터 N까지의 모든 자연수를 나열한다.<br>2. 남은 수 중에서 아직 처리하지 않은 가장 작은 수 i를 찾는다.<br>3. 남은 수 중에서 i의 배수를 모두 제거한다(i는 제거하지 않는다).<br>4. 더 이상 반복할 수 없을 때까지 2번과 3번의 과정을 반복한다.\n",
        "- 시간 복잡도는 O(NloglogN)입니다."
      ]
    },
    {
      "cell_type": "code",
      "metadata": {
        "id": "S-iji0sR6Kzf"
      },
      "source": [
        "import math\n",
        "\n",
        "n = 1000    # 2부터 1,000까지의 모든 수에 대하여 소수 판별\n",
        "# 처음엔 모든 수가 소수(True)인 것으로 초기화(0과 1은 제외)\n",
        "array = [True for i in range(n + 1)]\n",
        "\n",
        "# 에라토스테네스의 체 알고리즘 수행\n",
        "# 2부터 n의 제곱근까지의 모든 수를 확인하며\n",
        "for i in range(2, int(math.sqrt(n)) + 1):\n",
        "    if array[i] == True:    # i가 소수인 경우(남은 수인 경우)\n",
        "      # i를 제외한 i의 모든 배수를 지우기\n",
        "      j = 2\n",
        "      while i * j <= n:\n",
        "          array[i * j] = False\n",
        "          j += 1\n",
        "\n",
        "# 모든 소수 출력\n",
        "for i in range(2, n + 1):\n",
        "    if array[i]:\n",
        "        print(i, end=' ')"
      ],
      "execution_count": null,
      "outputs": []
    }
  ]
}