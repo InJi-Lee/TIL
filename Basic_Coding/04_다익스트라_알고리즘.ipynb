{
  "nbformat": 4,
  "nbformat_minor": 0,
  "metadata": {
    "colab": {
      "name": "다익스트라 알고리즘.ipynb",
      "provenance": [],
      "collapsed_sections": []
    },
    "kernelspec": {
      "name": "python3",
      "display_name": "Python 3"
    },
    "language_info": {
      "name": "python"
    }
  },
  "cells": [
    {
      "cell_type": "markdown",
      "metadata": {
        "id": "cQsLIlNxdHfH"
      },
      "source": [
        "- 특정한 노드에서 출발하여 다른 모든 노드로 가는 최단 경로를 계산합니다.\n",
        "- 음의 간선이 없을 때 정상적으로 동작합니다.\n",
        "- 그리디 알고리즘으로 분류됩니다. - 매 상황에서 가장 비용이 적은 노드르 선택해 임의의 과정을 반복함\n",
        "- 총 O(V)번에 걸쳐서 최단 거리가 가장 짧은 노드를 매번 선형 탐색해야 합니다.<br>=>따라서 전체 시간 복잡도는 O(V^2)"
      ]
    },
    {
      "cell_type": "markdown",
      "metadata": {
        "id": "jZYWndNVeKbi"
      },
      "source": [
        "### 다익스트라 알고리즘의 동작과정\n",
        "#### 1. 출발 노드를 설정합니다.\n",
        "#### 2. 최단 거리 테이블을 초기화합니다.\n",
        "#### 3. 방문하지 않은 노드 중에서 최단 거리가 가장 짧은 노드를 선택합니다.\n",
        "#### 4. 해당 노드를 거쳐 다른 노드로 가는 비용을 계산하여 최단 거리 테이브을 갱신합니다.<br>단, 한 번 처리된 노드의 최단 거리는 고정되어 더 이상 바뀌지 않음\n",
        "#### 5. 위 과정에서 3번과 4번을 반복합니다."
      ]
    },
    {
      "cell_type": "code",
      "metadata": {
        "id": "WxvKja9jh_4t"
      },
      "source": [
        "# 최단 경로 문제에서 전체 노드의 개수가 5,000개 이하라면 이 코드로 문제를 해결할 수 있다.\n",
        "'''\n",
        "import sys\n",
        "input = sys.stdin.readline\n",
        "INF = int(1e9)    # 무한을 의미하는 값으로 10억을 설정\n",
        "\n",
        "# 노드의 개수, 간선의 개수를 입력받기\n",
        "n, m = map(int, input().split())\n",
        "# 시작 노드 번호를 입력받기\n",
        "start = int(input())\n",
        "# 각 노드에 연결되어 있는 노드에 대한 정볼르 담는 리스트를 만들기\n",
        "graph = [[] for i in ragne(n + 1)]\n",
        "# 방문한 적이 있는지 체크하는 목저그이 리스트를 만들기\n",
        "visited = [False] * (n + 1)\n",
        "# 최단 거리 테이블을 모두 무한으로 초기화\n",
        "distance = [INF] * (n + 1)\n",
        "\n",
        "# 모든 간선 정보를 입력받기\n",
        "for _ in range(m):\n",
        "    a, b, c = map(int, input().split())\n",
        "    # a번 노드에서 b번 노드로 가는 비용이 c라는 의미\n",
        "    graph[a].append((b,c))\n",
        "\n",
        "# 방문하지 않은 노드 중에서, 가장 최단 거리가 짧은 노드의 번호를 반환\n",
        "def get_smallest_node():\n",
        "    min_value = INF\n",
        "    index = 0   # 가장 최단 거리가 짧은 노드(인덱스)\n",
        "    for i in range(1, n + 1):\n",
        "        if distance[i] < min_value and not visited[i]:\n",
        "            min_value = distance[i]\n",
        "            index = i\n",
        "    return index\n",
        "\n",
        "def dijkstra(start):\n",
        "    # 시작 노드에 대해서 초기화\n",
        "    distance[start] = 0\n",
        "    visited[start] = True\n",
        "    for j in graph[start]:\n",
        "        distance[j[0]] = j[1]\n",
        "    # 시작 노드를 제외한 전체 n - 1개의 노드에 대해 반복\n",
        "    for i in range(n - 1):\n",
        "        # 현재 최단 거리가 가장 짧은 노드를 꺼내서, 방문처리\n",
        "        now = get_smallest_node()\n",
        "        visited[now] = True\n",
        "        # 현재 노드와 연결된 다른 노드를 확인\n",
        "        for j in  graph[now]:\n",
        "            cost = distance[now] + j[1]\n",
        "            # 현재 노드를 거쳐서 다른 노드로 이동하는 거리가 더 짧은 경우\n",
        "            if cost < distance[j[0]]:\n",
        "                distance[j[0]] = cost\n",
        "\n",
        "# 다익스트라 알고리즘을 수행\n",
        "dijkstra(start)\n",
        "\n",
        "# 모든 노드로 가기 위한 최단 거리를 출력\n",
        "for i in range(1, n +1):\n",
        "    # 도달할 수 없는 경우, 무한(INFINITY)이라고 출력\n",
        "    if distance[i] == INF:\n",
        "        print(\"INFINITY\")\n",
        "    # 도달할 수 있는 경우 거리를 출력\n",
        "    else:\n",
        "        print(distance[i])\n",
        "..."
      ],
      "execution_count": null,
      "outputs": []
    },
    {
      "cell_type": "markdown",
      "metadata": {
        "id": "piPq6YcEpKuW"
      },
      "source": [
        "##### ++) 추출되는 데이터\n",
        "###### 스택(Stack) : 가장 나중에 삽입된 데이터\n",
        "###### 큐(Queue) : 가장 먼저 삽입된 데이터\n",
        "###### 우선순위 큐(Priority Queue) : 가장 우선순위가 높은 데이터"
      ]
    },
    {
      "cell_type": "markdown",
      "metadata": {
        "id": "4_cn0h8HnctL"
      },
      "source": [
        "### 우선순위 큐(Priority Queue)\n",
        "- 우선순위가 가장 높은 데이터를 가장 먼저 삭제하는 자료구조입니다.\n",
        "- 여러 개의 물거 넫이터를 자료구조에 넣었다가 가치가 높은 물건 데이터부터 꺼내서 확인해야 하는 경우에 우선순위 큐를 이용할 수 있습니다.\n",
        "***\n",
        "### 우선순위 큐 구현 방식\n",
        "- 리스트 : 삽입시간 O(1) /삭제시간 O(N)\n",
        "- 힙(Heap) : 삽입시간 O(logN) /삭제시간 O(logN)\n"
      ]
    },
    {
      "cell_type": "markdown",
      "metadata": {
        "id": "QL6gBaJipyL0"
      },
      "source": [
        "### 힙 라이브러리 사용 예제: 최소 힙\n"
      ]
    },
    {
      "cell_type": "code",
      "metadata": {
        "colab": {
          "base_uri": "https://localhost:8080/"
        },
        "id": "fDU4pd7DpZj9",
        "outputId": "9cce1a11-50b1-4408-8b69-0b7b99abcca0"
      },
      "source": [
        "import heapq\n",
        "\n",
        "# 오름차순 힙 정렬(Heap Sort)\n",
        "def heapsort(iterable):\n",
        "    h = []\n",
        "    result = []\n",
        "    # 모든 원소를 차례대로 힙에 삽입\n",
        "    for value in iterable:\n",
        "        heapq.heappush(h, value)\n",
        "    # 힙에 삽입된모든 원소를 차례대로 꺼내어 담기\n",
        "    for i in range(len(h)):\n",
        "        result.append(heapq.heappop(h))\n",
        "    return result\n",
        "\n",
        "result = heapsort([1, 3, 5, 7, 9, 2, 4, 6, 8, 0])\n",
        "print(result)"
      ],
      "execution_count": 6,
      "outputs": [
        {
          "output_type": "stream",
          "text": [
            "[0, 1, 2, 3, 4, 5, 6, 7, 8, 9]\n"
          ],
          "name": "stdout"
        }
      ]
    },
    {
      "cell_type": "markdown",
      "metadata": {
        "id": "8VAQf4g3r0vM"
      },
      "source": [
        "### 힙 라이브러리 사용 예제: 최대 힙"
      ]
    },
    {
      "cell_type": "code",
      "metadata": {
        "colab": {
          "base_uri": "https://localhost:8080/"
        },
        "id": "Xq6-0KJArG9C",
        "outputId": "2184b517-53a8-4a69-b85d-48429e9f2d19"
      },
      "source": [
        "import heapq\n",
        "\n",
        "# 내림차순 힙 정렬(Heap Sort)\n",
        "def heapsort(iterable):\n",
        "    h = []\n",
        "    result = []\n",
        "    # 모든 원소를 차례대로 힙에 삽입\n",
        "    for value in iterable:\n",
        "        heapq.heappush(h, -value)\n",
        "    # 힙에 삽입된모든 원소를 차례대로 꺼내어 담기\n",
        "    for i in range(len(h)):\n",
        "        result.append(-heapq.heappop(h))\n",
        "    return result\n",
        "\n",
        "result = heapsort([1, 3, 5, 7, 9, 2, 4, 6, 8, 0])\n",
        "print(result)"
      ],
      "execution_count": 7,
      "outputs": [
        {
          "output_type": "stream",
          "text": [
            "[9, 8, 7, 6, 5, 4, 3, 2, 1, 0]\n"
          ],
          "name": "stdout"
        }
      ]
    },
    {
      "cell_type": "markdown",
      "metadata": {
        "id": "7qW6e41ZsYBZ"
      },
      "source": [
        "### 개선된 구현 방법\n",
        "- 단계마다 방문하지 않은 노드 중에서 최단 거리가 가장 짧은 노드를 선택하기 위해 힙(Heap) 자료구조를 이용합니다.\n",
        "- 기존 다익스트라 알고리즘 기본원리는 동일하나,<br>현재 가장 가까운 노드를 저장해 놓기 위해서 힙 자료구조를 추가적으로 이용한다는 점이 다릅니다.<br>현재의 최단 거리가 가장 짧은 노드를 선택해야 하므로 최소 힙을 사용합니다."
      ]
    },
    {
      "cell_type": "code",
      "metadata": {
        "id": "KmC7w1EosImN"
      },
      "source": [
        "'''\n",
        "import heapq\n",
        "import sys\n",
        "input = sys.stdin.readline\n",
        "INF = int(1e9)    # 무한을 의미하는 값으로 10억을 설정\n",
        "\n",
        "# 노드의 개수, 간선의 개수를 입력받기\n",
        "n, m = map(int, input().split())\n",
        "# 시작 노드 번호를 입력받기\n",
        "start = int(input())\n",
        "# 각 노드에 연결되어 있는 노드에 대한 정볼르 담는 리스트를 만들기\n",
        "graph = [[] for i in ragne(n + 1)]\n",
        "# 방문한 적이 있는지 체크하는 목저그이 리스트를 만들기\n",
        "visited = [False] * (n + 1)\n",
        "# 최단 거리 테이블을 모두 무한으로 초기화\n",
        "distance = [INF] * (n + 1)\n",
        "\n",
        "# 모든 간선 정보를 입력받기\n",
        "for _ in range(m):\n",
        "    a, b, c = map(int, input().split())\n",
        "    # a번 노드에서 b번 노드로 가는 비용이 c라는 의미\n",
        "    graph[a].append((b,c))\n",
        "\n",
        "def dijkstra(start):\n",
        "    q = []\n",
        "    # 시작 노드로 가기 위한 최단 경로는 0으로 설정하여, 큐에 삽입\n",
        "    heapq.heappush(q, (0, start))\n",
        "    distance[start] = 0\n",
        "    while q:    # 큐가 비어있지 않다면\n",
        "        # 가장 최단 거리가 짧은 노드에 대한 정보 꺼내기\n",
        "        dist, now = heapq.heappop(q)\n",
        "        # 현재 노드가 이미 처리된 적이 있는 노드라면 무시\n",
        "        if distance[now] < dist:\n",
        "            continue\n",
        "        # 현재 노드와 연결된 다른 인접한 노드들을 확인\n",
        "        for i in graph[now]:\n",
        "            cost = dist + i[1]\n",
        "            # 현재 노드를 거쳐서, 다른 노드로 이동하는 거리가 더 짧은 경우\n",
        "            if cost < distance[i[0]]:\n",
        "                distance[i[0]] = cost\n",
        "                heapq.heappush(q, (cost, i[0]))\n",
        "\n",
        "# 다익스트라 알고리즘을 수행\n",
        "dijkstra(start)\n",
        "\n",
        "# 모든 노드로 가기 위한 최단 거리를 출력\n",
        "for i in range(1, n +1):\n",
        "    # 도달할 수 없는 경우, 무한(INFINITY)이라고 출력\n",
        "    if distance[i] == INF:\n",
        "        print(\"INFINITY\")\n",
        "    # 도달할 수 있는 경우 거리를 출력\n",
        "    else:\n",
        "        print(distance[i])\n",
        "'''"
      ],
      "execution_count": null,
      "outputs": []
    },
    {
      "cell_type": "markdown",
      "metadata": {
        "id": "hRGm2-dWxs03"
      },
      "source": [
        "### 개선된 구현 방법 성능 분석\n",
        "- 힙 자료구조를 이용하는 다익스트라 알고리즘의 시간 복잡도는 O(ElogV)입니다.\n",
        "- 노드를 하나씩 꺼내 검사하는 반복문(while)은 노드의 개수 V이상의 횟수로는 처리되지 않습니다.<br>결과적으로 현재 우선순위 큐에서 꺼낸 노드와 연결된 다른 노드들을 확인하는 총횟수는 최대 간선의 개수(E)만큼 연산이 수행될 수 있습니다.\n",
        "- 직관적으로 전체 과정은 E개의 원소를 우선순위 큐에 넣었다가 모두 빼내는 연산과 매우 유사합니다.\n",
        "- 시간 복잡도를 O(ElogE)로 판단 가능\n",
        "- 중복 간선을 포함하지 않는 경우에 이를 O(ElogV)로 정리할 수 있음<br>O(ElogE) --> O(ElogV^2) --> O(2ElogV) --> O(ElogV)"
      ]
    },
    {
      "cell_type": "code",
      "metadata": {
        "id": "81z86_bPwfjz"
      },
      "source": [
        ""
      ],
      "execution_count": null,
      "outputs": []
    }
  ]
}