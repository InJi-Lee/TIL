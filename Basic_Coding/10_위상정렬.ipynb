{
  "nbformat": 4,
  "nbformat_minor": 0,
  "metadata": {
    "colab": {
      "name": "10_위상정렬.ipynb",
      "provenance": [],
      "collapsed_sections": []
    },
    "kernelspec": {
      "name": "python3",
      "display_name": "Python 3"
    },
    "language_info": {
      "name": "python"
    }
  },
  "cells": [
    {
      "cell_type": "markdown",
      "metadata": {
        "id": "XsM1ID5FUDxk"
      },
      "source": [
        "# 위상 정렬: 방향성을 거스르지 않도록 전체 노드를 나열하기\n",
        "### 위상정렬이란?<br>사이클이 없는 방향 그래프의 모든 노드를 방향성에 거스르지 않도록 순서대로 나열하는 것을 의미합니다.\n",
        "***"
      ]
    },
    {
      "cell_type": "markdown",
      "metadata": {
        "id": "hHY7I2p7Z7SR"
      },
      "source": [
        "### 큐를 이용하는 위상 정렬 알고리즘의 동작은 다음과 같습니다.<br>1. 진입차수가 0인 모든 노드를 큐에 넣는다.<br>2. 큐가 빌 때까지 다음의 과정을 반복한다.<br>1) 큐에서 원소를 꺼내 해당 노드에서 나가는 간선을 그래프에서 제거한다.<br>2) 새롭게 진입차수가 0이 된 노드를 큐에 넣는다.<br>==> 결과적으로 각 노드가 큐에 들어온 순서가 위상 정렬을 수행한 결과와 같습니다.\n",
        "***"
      ]
    },
    {
      "cell_type": "markdown",
      "metadata": {
        "id": "FMr48Hn8Uwir"
      },
      "source": [
        "- 진입차수(Indegree): 특정한 노드로 들어오는 간선의 개수\n",
        "- 진출차수(Outdegree): 특정한 노드에서 나가는 간선의 개수"
      ]
    },
    {
      "cell_type": "markdown",
      "metadata": {
        "id": "u3H2mRxCbY_8"
      },
      "source": [
        "### 위상 정렬의 특징\n",
        "- 위상 정렬은 DAG(Direct Acyclic Graph: 순환하지 않는 방향 그래프)에 대해서만 수행할 수 잇습니다.\n",
        "- 위상 정렬에서는 여러가지 답이 존재할 수 있습니다.- 한 단계에서 큐에 새롭게 들어가는 원소가 2개 이상인 경우가 있다면 여러가지 답이 존재합니다.\n",
        "- 모든 원소를 방문하기 전에 큐가 빈다면 사이클이 존재한다고 판단할 수 있습니다. - 사이클에 포함된 원소 중에서 어떠한 원소도 큐에 들어가지 못합니다.\n",
        "-스택을 활용한 DFS를 이용해 위상 정렬을 수행할 수도 있습니다."
      ]
    },
    {
      "cell_type": "code",
      "metadata": {
        "colab": {
          "base_uri": "https://localhost:8080/"
        },
        "id": "de3Dejz0fWU-",
        "outputId": "d90459e9-39ec-4fdd-d431-ce5e43599830"
      },
      "source": [
        "from collections import deque\n",
        "\n",
        "# 노드의 개수와 간선의 개수를 입력 받기\n",
        "v, e = map(int, input().split())\n",
        "# 모든 노드에 대한 진입차수는 0으로 초기화\n",
        "indegree = [0] * (v + 1)\n",
        "# 각 노드에 연결된 간선 정보를 담기 위한 연결 리스트 초기화\n",
        "graph = [[] for i in range(v + 1)]\n",
        "\n",
        "# 방향 그래프의 모든 간선 정보를 입력 받기\n",
        "for _ in range(e):\n",
        "    a, b = map(int, input().split())\n",
        "    graph[a].append(b)    # 정점 A에서 B로 이동 가능\n",
        "    # 진입 차수를 1 증가\n",
        "    indegree[b] += 1\n",
        "\n",
        "# 위상 정렬 함수\n",
        "def topology_sort():\n",
        "    result = []   # 알고리즘 수행 결과를 담을 리스트\n",
        "    q = deque()   # 큐 기능을 위한 deque 라이브러리 사용\n",
        "    # 처음 시작할 때는 진입차수가 0인 노드를 큐에 삽입\n",
        "    for i in range(1, v + 1):\n",
        "        if indegree[i] == 0:\n",
        "            q.append(i)\n",
        "    # 큐가 빌 때까지 반복\n",
        "    while q:\n",
        "        # 큐에서 원소 꺼내기\n",
        "        now = q.popleft()\n",
        "        result.append(now)\n",
        "        # 해당 원소와 연결된 노드들의 진입차수에서 1 빼기\n",
        "        for i in graph[now]:\n",
        "            indegree[i] -= 1\n",
        "            # 새롭게 진입차수가 0이 되는 노드를 큐에 삽입\n",
        "            if indegree[i] == 0:\n",
        "                q.append(i)\n",
        "        # 위상 정렬을 수행한 결과 출력\n",
        "    for i in result:\n",
        "        print(i, end=' ')\n",
        "\n",
        "topology_sort()"
      ],
      "execution_count": 5,
      "outputs": [
        {
          "output_type": "stream",
          "text": [
            "7 8\n",
            "1 2\n",
            "1 5\n",
            "2 3\n",
            "2 6\n",
            "3 4\n",
            "4 7\n",
            "5 6\n",
            "6 4\n",
            "1 2 5 3 6 4 7 "
          ],
          "name": "stdout"
        }
      ]
    },
    {
      "cell_type": "markdown",
      "metadata": {
        "id": "mx8oX6HbiDOq"
      },
      "source": [
        "### 위상 정렬 알고리즘 성능 분석\n",
        "- 위상 정렬을 위해 차례대로 모든 노드를 확인하며 각 노드에서 나가는 간선을 차례대로 제거해야 합니다.\n",
        "- 위상 정렬 알고리즘의 시간 복잡도는 O(V + E)입니다."
      ]
    },
    {
      "cell_type": "code",
      "metadata": {
        "id": "j5d1cyJziP8-"
      },
      "source": [
        ""
      ],
      "execution_count": null,
      "outputs": []
    }
  ]
}