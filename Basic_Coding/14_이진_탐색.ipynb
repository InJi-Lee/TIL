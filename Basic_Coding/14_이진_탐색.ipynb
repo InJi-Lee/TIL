{
  "nbformat": 4,
  "nbformat_minor": 0,
  "metadata": {
    "colab": {
      "name": "14_이진 탐색.ipynb",
      "provenance": [],
      "collapsed_sections": []
    },
    "kernelspec": {
      "name": "python3",
      "display_name": "Python 3"
    },
    "language_info": {
      "name": "python"
    }
  },
  "cells": [
    {
      "cell_type": "markdown",
      "metadata": {
        "id": "vkQucxrkKraI"
      },
      "source": [
        "# 이진 탐색 알고리즘\n",
        "- 순차 탐색 : 리스트 안에 있는 특정한 데이터를 찾기 위해 앞에서부터 데이터를 하나씩 확인하는 방법\n",
        "- 이진 탐색 : 정렬되어 있는 리스트에서 탐색 범위를 절반씩 좁혀가며 데이터를 탐색하는 방법<br>이진 탐색은 시작점, 끝점, 중간점을 이용하여 탐색 범위를 설정합니다.\n",
        "***"
      ]
    },
    {
      "cell_type": "markdown",
      "metadata": {
        "id": "6zKYWmKTN6by"
      },
      "source": [
        "# 이진 탐색의 시간 복잡도\n",
        "- 단계마다 탐색 범위를 2로 나누는 것과 동일하므로 연산 횟수는 log<sub>2</sub>N에 비례합니다.\n",
        "- 예를 들어 초기 데이터 개수가 32개일 때, 이상적으로 1단계를 거치면 16개가량의 데이터만 남습니다.<br>2단게를 거치면 8개가량의 데이터만 남습니다.<br>3단계를 거치면 4개가량의 데이터만 남습니다.\n",
        "- 이진 탐색은 탐색 범위를 절반씩 줄이며, 시간 복잡도는 O(logN)을 보장합니다."
      ]
    },
    {
      "cell_type": "markdown",
      "metadata": {
        "id": "D3jrZ7G2OoRb"
      },
      "source": [
        "### 이진 탐색 소스코드: 재귀적 구현"
      ]
    },
    {
      "cell_type": "code",
      "metadata": {
        "colab": {
          "base_uri": "https://localhost:8080/"
        },
        "id": "py6LHIz3KCYl",
        "outputId": "a2a2df31-9e48-49f9-f2e1-28089df7362d"
      },
      "source": [
        "# 이진 탐색 소스코드 구현 (재귀 함수)\n",
        "def binary_search(array, targe, start, end):\n",
        "    if start > end:\n",
        "        return None\n",
        "    mid = (start + end) // 2\n",
        "    # 찾은 경우 중간점 인덱스 반환\n",
        "    if array[mid] == target:\n",
        "        return mid\n",
        "    # 중간점의 값보다 찾고자 하는 값이 작은 경우 왼쪽 확인\n",
        "    elif array[mid] > target:\n",
        "        return binary_search(array, target, start, mid - 1)\n",
        "    # 중간점의 값보다 찾고자 하는 값이 큰 경우 오른쪽 확인\n",
        "    else:\n",
        "        return binary_search(array, target, mid + 1, end)\n",
        "\n",
        "# n(원소의 개수)과 target(찾고자 하는 값)을 입력 받기\n",
        "n, target = list(map(int, input().split()))\n",
        "# 전체 원소 입력 받기\n",
        "array = list(map(int, input().split()))\n",
        "\n",
        "# 이진 탐색 수행 결과 출력\n",
        "result = binary_search(array, target, 0 , n - 1)\n",
        "if result == None:\n",
        "    print(\"원소가 존재하지 않습니다.\")\n",
        "else:\n",
        "    print(result + 1)"
      ],
      "execution_count": null,
      "outputs": [
        {
          "output_type": "stream",
          "text": [
            "10 7\n",
            "1 3 5 7 9 11 13 15 17 19\n",
            "4\n"
          ],
          "name": "stdout"
        }
      ]
    },
    {
      "cell_type": "code",
      "metadata": {
        "colab": {
          "base_uri": "https://localhost:8080/"
        },
        "id": "fNRltGHiQDVj",
        "outputId": "51b4bc21-0d8e-4865-f2c0-ca9ae2331a86"
      },
      "source": [
        "# 이진 탐색 소스코드 구현 (재귀 함수)\n",
        "def binary_search(array, targe, start, end):\n",
        "    if start > end:\n",
        "        return None\n",
        "    mid = (start + end) // 2\n",
        "    # 찾은 경우 중간점 인덱스 반환\n",
        "    if array[mid] == target:\n",
        "        return mid\n",
        "    # 중간점의 값보다 찾고자 하는 값이 작은 경우 왼쪽 확인\n",
        "    elif array[mid] > target:\n",
        "        return binary_search(array, target, start, mid - 1)\n",
        "    # 중간점의 값보다 찾고자 하는 값이 큰 경우 오른쪽 확인\n",
        "    else:\n",
        "        return binary_search(array, target, mid + 1, end)\n",
        "\n",
        "# n(원소의 개수)과 target(찾고자 하는 값)을 입력 받기\n",
        "n, target = list(map(int, input().split()))\n",
        "# 전체 원소 입력 받기\n",
        "array = list(map(int, input().split()))\n",
        "\n",
        "# 이진 탐색 수행 결과 출력\n",
        "result = binary_search(array, target, 0 , n - 1)\n",
        "if result == None:\n",
        "    print(\"원소가 존재하지 않습니다.\")\n",
        "else:\n",
        "    print(result + 1)"
      ],
      "execution_count": null,
      "outputs": [
        {
          "output_type": "stream",
          "text": [
            "10 7\n",
            "1 3 5 6 9 11 13 15 17 19\n",
            "원소가 존재하지 않습니다.\n"
          ],
          "name": "stdout"
        }
      ]
    },
    {
      "cell_type": "markdown",
      "metadata": {
        "id": "rjqav8YqZF03"
      },
      "source": [
        "### 이진 탐색 소스코드: 반복문 구현"
      ]
    },
    {
      "cell_type": "code",
      "metadata": {
        "colab": {
          "base_uri": "https://localhost:8080/"
        },
        "id": "3f3yFm-gZDyT",
        "outputId": "5d872031-9368-41ba-eb01-f39b570ae736"
      },
      "source": [
        "# 이진 탐색 소스코드 구현 (반복문)\n",
        "def binary_search(array, targe, start, end):\n",
        "    while start <= end:\n",
        "      mid = (start + end) // 2\n",
        "      # 찾는 경우 중간점 인덱스 반환\n",
        "      if array[mid] == target:\n",
        "          return mid\n",
        "      # 중간점의 값보다 찾고자 하는 값이 작은 경우 왼쪽 확인\n",
        "      elif array[mid] > target:\n",
        "          end = mid - 1\n",
        "      # 중간점의 값보다 찾고자 하는 값이 큰 경우 오른쪽 확인\n",
        "      else:\n",
        "          start = mid + 1\n",
        "    return None\n",
        "\n",
        "# n(원소의 개수)과 target(찾고자 하는 값)을 입력 받기\n",
        "n, target = list(map(int, input().split()))\n",
        "# 전체 원소 입력 받기\n",
        "array = list(map(int, input().split()))\n",
        "\n",
        "# 이진 탐색 수행 결과 출력\n",
        "result = binary_search(array, target, 0 , n - 1)\n",
        "if result == None:\n",
        "    print(\"원소가 존재하지 않습니다.\")\n",
        "else:\n",
        "    print(result + 1)"
      ],
      "execution_count": 4,
      "outputs": [
        {
          "output_type": "stream",
          "text": [
            "10 7\n",
            "1 3 5 6 9 11 13 15 17 19\n",
            "원소가 존재하지 않습니다.\n"
          ],
          "name": "stdout"
        }
      ]
    },
    {
      "cell_type": "code",
      "metadata": {
        "colab": {
          "base_uri": "https://localhost:8080/"
        },
        "id": "ZcvazYd0akzU",
        "outputId": "5c2755a1-defd-4dbf-ef7e-7e708af519c2"
      },
      "source": [
        "# 이진 탐색 소스코드 구현 (반복문)\n",
        "def binary_search(array, targe, start, end):\n",
        "    while start <= end:\n",
        "      mid = (start + end) // 2\n",
        "      # 찾는 경우 중간점 인덱스 반환\n",
        "      if array[mid] == target:\n",
        "          return mid\n",
        "      # 중간점의 값보다 찾고자 하는 값이 작은 경우 왼쪽 확인\n",
        "      elif array[mid] > target:\n",
        "          end = mid - 1\n",
        "      # 중간점의 값보다 찾고자 하는 값이 큰 경우 오른쪽 확인\n",
        "      else:\n",
        "          start = mid + 1\n",
        "    return None\n",
        "\n",
        "# n(원소의 개수)과 target(찾고자 하는 값)을 입력 받기\n",
        "n, target = list(map(int, input().split()))\n",
        "# 전체 원소 입력 받기\n",
        "array = list(map(int, input().split()))\n",
        "\n",
        "# 이진 탐색 수행 결과 출력\n",
        "result = binary_search(array, target, 0 , n - 1)\n",
        "if result == None:\n",
        "    print(\"원소가 존재하지 않습니다.\")\n",
        "else:\n",
        "    print(result + 1)"
      ],
      "execution_count": 5,
      "outputs": [
        {
          "output_type": "stream",
          "text": [
            "10 7\n",
            "1 3 5 7 9 11 13 15 17 19\n",
            "4\n"
          ],
          "name": "stdout"
        }
      ]
    },
    {
      "cell_type": "markdown",
      "metadata": {
        "id": "k4kcnFQcYqeA"
      },
      "source": [
        "# 파이썬 이진 탐색 라이브러리\n",
        "- bisect_left(a, x) : 정렬된 순서를 유지하면서 배열 a에 x를 삽입할 가장 왼쪽 인덱스를 반환\n",
        "- bisect_right(a, x) : 정렬된 순서를 유지하면서 배열  a에 x를 삽입할 가장 오른쪽 인덱스를 반환"
      ]
    },
    {
      "cell_type": "code",
      "metadata": {
        "colab": {
          "base_uri": "https://localhost:8080/"
        },
        "id": "MOGeF-KtbvPa",
        "outputId": "f30cc442-00d7-4100-c7a8-58ddc077fd84"
      },
      "source": [
        "from bisect import bisect_left, bisect_right\n",
        "\n",
        "a = [1, 2, 4, 4, 8]\n",
        "x = 4\n",
        "\n",
        "print(bisect_left(a, x))\n",
        "print(bisect_right(a, x))"
      ],
      "execution_count": 7,
      "outputs": [
        {
          "output_type": "stream",
          "text": [
            "2\n",
            "4\n"
          ],
          "name": "stdout"
        }
      ]
    },
    {
      "cell_type": "markdown",
      "metadata": {
        "id": "jYI3kPn7bHVg"
      },
      "source": [
        "### 값이 특정 범위에 속하는 데이터 개수 구하기"
      ]
    },
    {
      "cell_type": "code",
      "metadata": {
        "colab": {
          "base_uri": "https://localhost:8080/"
        },
        "id": "dllXbnQDcTUW",
        "outputId": "1743af58-8a49-4733-e44b-8dbbd26185fb"
      },
      "source": [
        "from bisect import bisect_left, bisect_right\n",
        "\n",
        "# 값이 [left_value, right_value]인 데이터의 개수를 반환하는 함수\n",
        "def count_by_range(a, left_value, right_value):\n",
        "    right_index = bisect_right(a, right_value)\n",
        "    left_index = bisect_left(a, left_value)\n",
        "    return right_index - left_index\n",
        "\n",
        "# 배열 선언\n",
        "a = [1, 2, 3, 3, 3, 3, 4, 4, 8, 9]\n",
        "\n",
        "# 값이 4인 데이터 개수 출력\n",
        "print(count_by_range(a, 4, 4))\n",
        "\n",
        "# 값이 [-1, 3] 범위에 있는 데이터 개수 출력\n",
        "print(count_by_range(a, -1, 3))"
      ],
      "execution_count": 11,
      "outputs": [
        {
          "output_type": "stream",
          "text": [
            "2\n",
            "6\n"
          ],
          "name": "stdout"
        }
      ]
    },
    {
      "cell_type": "markdown",
      "metadata": {
        "id": "0RVMQc6md2YP"
      },
      "source": [
        "# 파라메트릭 서치 : 최적화 문제를 결정 문제(예 아니오)로 바꾸어 해결하는 기법\n",
        "- 일반적으로 코딩 테스트에서 파라메트릭 서치 문제는 이진 탐색을 이용하여 해결할 수 있습니다."
      ]
    },
    {
      "cell_type": "markdown",
      "metadata": {
        "id": "xScakzpdekL7"
      },
      "source": [
        "### Q 떡볶이 떡 만들기\n",
        "- 오늘 동빈이는 여행 가신 부모님을 대신해서 떡집 일을 하기로 했습니다. 오늘은 떡볶이 떡을 만드는 날입니다. 동빈이네 떡볶이 떡은 길이가 일정하지 않습니다. 대신 한 봉지 안에 들어가는 떡의 총길이는 절단기로 잘라서 맞춥니다.\n",
        "- 절단기에 높이(H)를 지정하면 줄지어진 떡을 한 번에 절단합니다. 높이가 H보다 긴 떡은 H위의 부분이 잘릴 것이고, 낮은 떡은 잘리지 않습니다.\n",
        "- 예를 들어 높이가 19, 14, 10, 17cm인 떡이 나란히 있고 절단기 높이를 15cm로 지정하면 자른 뒤 떡의 높이는 15, 14, 10, 15cm가 될 것입니다. 잘린 떡의 길이는 차례대로 4, 0, 0, 2cm 입니다. 손님은 6cm만큼의 길이를 가져갑니다.\n",
        "- 손님이 왔을 때 요청한 총 길이가 M일때 적어도 M만큼의 떡을 얻기 위해 절단기에 설정할 수 있는 높이의 최댓값을 구하는 프로그램을 작성하시오.\n",
        "***"
      ]
    },
    {
      "cell_type": "markdown",
      "metadata": {
        "id": "_lYY38YufdhT"
      },
      "source": [
        "#### 입력 조건\n",
        "#### - 첫째줄에 떡의 개수 N과 요청한 떡의 길이 M이 주어집니다.(1 <= N <= 1,000,000. 1 <= M <= 2,000,000,000)\n",
        "#### - 둘째 줄에는 떡의 개별 높이가 주어집니다. 떡 높이의 총합은 항상 M 이상이므로, 손님은 필요한 양만큼 떡을 사갈 수 있습니다. 높이는 10억보다 작거나 같은 양의 정수 또는 0입니다.\n",
        "#### 출력조건\n",
        "#### - 적어도 M만큼의 떡을 집에 가져가기 위해 절단기에 설정할 수 있는 높이의 최댓값을 출력합니다.\n",
        "***\n",
        "#### 입력 예시<br>4 6<br>19 15 10 17\n",
        "#### 출력 예시<br>15\n",
        "****\n",
        "- 이진 탐색 과정을 반복하여 답을 도출합니다.\n",
        "- 중간점의 값은 시간이 지날수록 '최적화된 값'이 되기 때문에, 과정을 반복하면서 얻을 수 있는 떡의 길이 합이 필요한 떡의 길이보다 크거나 같을 때마다 중간값의 값을 기록하면 됩니다."
      ]
    },
    {
      "cell_type": "code",
      "metadata": {
        "colab": {
          "base_uri": "https://localhost:8080/"
        },
        "id": "X15TCaPKejMy",
        "outputId": "b794dcac-2a2a-43c5-e171-e084445cc466"
      },
      "source": [
        "# 떡의 개수(N)(와 요청한 떢의 길이(M)을 입력\n",
        "n, m = list(map(int, input().split(' ')))\n",
        "# 각 떡의 개별 높이 정보를 입력\n",
        "array = list(map(int, input().split()))\n",
        "\n",
        "# 이진 탐색을 위한 시작점과 끝점 설정\n",
        "start = 0 \n",
        "end = max(array)\n",
        "\n",
        "# 이진 탐색 수행 (반복적)\n",
        "result = 0\n",
        "while(start <= end):\n",
        "    total = 0\n",
        "    mid = (start + end) // 2\n",
        "    for x in array:\n",
        "        # 잘랐을 때의 떡의 양 계산\n",
        "        if x > mid:\n",
        "            total += x - mid\n",
        "    # 떡의 양이 부족한 경우 더 많이 자르기 (왼쪽 부분 탐색)\n",
        "    if total < m:\n",
        "        end = mid - 1\n",
        "    # 떡의 양이 충분한 경우 덜 자르기 (오른쪽 부분 탐색)\n",
        "    else:\n",
        "        result = mid\n",
        "        start = mid + 1\n",
        "# 정답 출력\n",
        "print(result)"
      ],
      "execution_count": 13,
      "outputs": [
        {
          "output_type": "stream",
          "text": [
            "4 6\n",
            "19 15 10 17\n",
            "15\n"
          ],
          "name": "stdout"
        }
      ]
    },
    {
      "cell_type": "markdown",
      "metadata": {
        "id": "Te67XtcpkeYR"
      },
      "source": [
        "### Q 정렬된 배열에서 특정 수의 개수 구하기\n",
        "- N개의 원소를 포함하고 있는 수열이 오름차순으로 정렬되어 있습니다. 이때 이 수열에서 x가 등장하는 횟수를 계산하세요. 예를 들어 수열 {1, 1, 2, 2, 2, 2, 3}이 있을 때 x = 2라면, 현재 수열에서 값이 2인 원소가 4개이므로, 4를 출력합니다.\n",
        "- 단, 이 문제는 시간복잡도 O(logN)으로 알고리즘을 설계하지 않으면 시간 초과 판정을 받습니다.\n",
        "***"
      ]
    },
    {
      "cell_type": "markdown",
      "metadata": {
        "id": "uV8-ODJnmL3h"
      },
      "source": [
        "#### 입력 조건\n",
        "#### - 첫째 줄에 N과 x가 정수 형태로 공백으로 구분되어 입력됩니다. (1 <= N <= 1,000,000) (-10<sup>9</sup> <= x <= 10<sup>9</sup>)\n",
        "#### - 둘째 줄에 N개의 원소가 정수 형태로 공백으로 구분되어 입력됩니다. (-10<sup>9</sup> <= 각 원소의 값 <= 10<sup>9</sup>)\n",
        "#### 출력 조건\n",
        "#### - 수열의 원소 중에서 값이 x인 원소의 개수를 출력합니다. 단, 값이 x인 원소가 하나도 없다면 -1을 출력합니다.\n",
        "***\n",
        "#### 입력 예시1<br>7 2<br>1 1 2 2 2 2 3\n",
        "#### 출력 예시1<br>4\n",
        "***"
      ]
    },
    {
      "cell_type": "markdown",
      "metadata": {
        "id": "CMNptMCvniYE"
      },
      "source": [
        "- 시간 복잡도 O(logN)으로 동작하는 알고리즘을 요구하고 있습니다.\n",
        "- 일반적인 선형 탐색로는 시간 초과 판정을 받습니다. 하지만 데이터가 정렬되어 있기 때문에 이진 탐색을 수행할 수 있습니다.\n",
        "- 특정 값이 등장하는 첫 번째 위치와 마지막 위치 차이를 계산해 문제를 해결할 수 있습니다."
      ]
    },
    {
      "cell_type": "code",
      "metadata": {
        "colab": {
          "base_uri": "https://localhost:8080/"
        },
        "id": "pb48qSKvdOwo",
        "outputId": "9df77c56-e820-4631-b353-fab8e1516f8a"
      },
      "source": [
        "from bisect import bisect_left, bisect_right\n",
        "\n",
        "# 값이 [left_value, right_value]인 데이터의 개수를 반환하는 함수\n",
        "def count_by_range(array, left_value, right_value):\n",
        "    right_index = bisect_right(array, right_value)\n",
        "    left_index = bisect_left(array, left_value)\n",
        "    return right_index - left_index\n",
        "\n",
        "n, x = map(int, input().split())   # 데이터의 개수 N, 찾고자 하는 값 x 입력받기\n",
        "array = list(map(int, input().split()))   # 전체 데이터 입력받기\n",
        "\n",
        "# 값이 [x, x] 범위에 있는 데이터의 개수 계산\n",
        "count = count_by_range(array, x, x)\n",
        "\n",
        "# 값이 x인 원소가 존재하지 않는다면\n",
        "if count == 0:\n",
        "    print(-1)\n",
        "# 값이 x인 원소가 존재한다면\n",
        "else:\n",
        "    print(count)"
      ],
      "execution_count": 18,
      "outputs": [
        {
          "output_type": "stream",
          "text": [
            "7 2 \n",
            "1 1 2 2 2 2 3\n",
            "4\n"
          ],
          "name": "stdout"
        }
      ]
    },
    {
      "cell_type": "code",
      "metadata": {
        "id": "iSW-fDqCoqY0"
      },
      "source": [
        ""
      ],
      "execution_count": null,
      "outputs": []
    }
  ]
}