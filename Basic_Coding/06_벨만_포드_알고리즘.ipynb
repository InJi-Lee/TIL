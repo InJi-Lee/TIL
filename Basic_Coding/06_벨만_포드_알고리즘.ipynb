{
  "nbformat": 4,
  "nbformat_minor": 0,
  "metadata": {
    "colab": {
      "name": "벨만 포드 알고리즘.ipynb",
      "provenance": [],
      "collapsed_sections": []
    },
    "kernelspec": {
      "name": "python3",
      "display_name": "Python 3"
    },
    "language_info": {
      "name": "python"
    }
  },
  "cells": [
    {
      "cell_type": "markdown",
      "metadata": {
        "id": "LpCQRhp1GUzI"
      },
      "source": [
        "## 벨만 포드 알고리즘 : 비용이 음수인 간선이 있을 때 최단 경로를 구하는 법"
      ]
    },
    {
      "cell_type": "markdown",
      "metadata": {
        "id": "fYJRSS-FIVHk"
      },
      "source": [
        "### 벨만 포드 알고리즘\n",
        "#### 1. 출발노드를 설정합니다.\n",
        "#### 2. 최단 거리 테이블을 초기화합니다.\n",
        "#### 3. 다음의 과정을 N - 1번 반복합니다.<br>전체 간선 E개를 하나씩 확인합니다.<br>각 간선을 거쳐 다른 노드로 가는 비용을 계산하여 최단 거리 테이블을 갱신합니다.\n",
        "#### (만약 음수 간선 순환이 발생하는지 체크하고 싶다면 3번의 과정을 한 번 더 수행합니다. 이때 최단 거리 테이블이 갱신된다면 음수 간선 순환이 존재하는 것입니다.)\n"
      ]
    },
    {
      "cell_type": "markdown",
      "metadata": {
        "id": "knVoP0UYJkjZ"
      },
      "source": [
        "## 다익스트라 알고리즘 VS 벨만 포드 알고리즘\n",
        "### 다익스트라 알고리즘\n",
        "- 매번 방문하지 않은 노드 중에서 최단 거리가 가장 짧은 노드를 선택합니다.\n",
        "- 음수 간선이 없다면 최적의 해를 찾을 수 있습니다.\n",
        "### 벨만 포드 알고리즘\n",
        "- 매번 모든 간선을 전부 확인합니다.\n",
        "- 따라서 다익스트라 알고리즘에서의 최적의 해를 항상 포함합니다.\n",
        "- 다익스트라 알고리즘에 비해서 시간이 오래 걸리지만 음수 간선 순환을 탐지할 수 있습니다."
      ]
    },
    {
      "cell_type": "code",
      "metadata": {
        "id": "pEg-qzsiGSO5"
      },
      "source": [
        "'''\n",
        "import sys\n",
        "input = sys.stdin.readline\n",
        "INF = int(1e9)    # 무한을 의미하는 값으로 10억을 설정\n",
        "\n",
        "def bf(start):\n",
        "    # 시작 노드에 대해서 초기화\n",
        "    dist[start] = 0\n",
        "    # 전체 n번의 라운드(round)를 반복\n",
        "    fot i in range(n):\n",
        "        # 매 반복마다 \"모든 간선\"을 확인하며\n",
        "        for j in range(m):\n",
        "            cur = edges[j][0]\n",
        "            next_node = edges[j][1]\n",
        "            cost = edges[j][2]\n",
        "            # 현재 간선을 거쳐서 다른 노드로 이동하는 거리가 더 짧은 경우\n",
        "            if dist[cur] != INF and dist[next_node] > dist[cur] + cost:\n",
        "                dist[next_node] = dist[cur] + cost\n",
        "                # n번째 라운드에서도 값이 갱신된다면 음수 순환이 존재\n",
        "                if i == n - 1:\n",
        "                    return True\n",
        "    return False\n",
        "\n",
        "# 노드의 개수, 간선의 개수를 입력받기\n",
        "n, m = map(int, input().split())\n",
        "# 모든 간선에 대한 정보를 담는 리스트 만들기\n",
        "edges = []\n",
        "# 최단 거리 테이블을 모두 무한으로 초기화\n",
        "dist = [INF] * (n + 1)\n",
        "\n",
        "# 모든 간선 정보를 입력받기\n",
        "for _ in range(m):\n",
        "    a, b, c = map(int, input().split())\n",
        "    # a번 노드에서 b번 노드로 가는 비용이 c라는 의미\n",
        "    edges.append((a, b, c))\n",
        "\n",
        "# 벨만 포드 알고리즘을 수행\n",
        "negative_cycle = bf(1)    # 1번 노드가 시작 노드\n",
        "\n",
        "if negative_cycle:\n",
        "    print(\"-1\")\n",
        "else:\n",
        "    # 1번 노드를 제외한 다른 모든 노드로 가기 위한 최단 거리 출력\n",
        "    for i in range(2, n + 1):\n",
        "        # 도달할 수 없는 경우, -1을 출력\n",
        "        if dist[i] == INF:\n",
        "            print(\"-1\")\n",
        "        # 도달할 수 있는 경우 거리를 출력\n",
        "        else:\n",
        "            print(dist[i])\n",
        "\n",
        "'''"
      ],
      "execution_count": null,
      "outputs": []
    }
  ]
}