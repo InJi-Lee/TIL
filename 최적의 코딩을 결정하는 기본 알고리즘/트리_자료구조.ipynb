{
  "nbformat": 4,
  "nbformat_minor": 0,
  "metadata": {
    "colab": {
      "name": "트리_자료구조.ipynb",
      "provenance": [],
      "collapsed_sections": []
    },
    "kernelspec": {
      "name": "python3",
      "display_name": "Python 3"
    },
    "language_info": {
      "name": "python"
    }
  },
  "cells": [
    {
      "cell_type": "markdown",
      "metadata": {
        "id": "mjiEYgYsMnK7"
      },
      "source": [
        "### 트리의 순회 (Tree Traversal) 구현 예제\n"
      ]
    },
    {
      "cell_type": "code",
      "metadata": {
        "colab": {
          "base_uri": "https://localhost:8080/"
        },
        "id": "_HFY3kJ7NGte",
        "outputId": "82849a0e-370e-4d6c-db37-2948e74328d1"
      },
      "source": [
        "class Node:\n",
        "    def __init__(self, data, left_node, right_node):\n",
        "        self.data = data\n",
        "        self.left_node = left_node\n",
        "        self.right_node = right_node  \n",
        "\n",
        "\n",
        "# 전위 순회(Preorder Traversal)\n",
        "def pre_order(node):\n",
        "    print(node.data, end=' ')\n",
        "    if node.left_node != None:\n",
        "        pre_order(tree[node.left_node])\n",
        "    if node.right_node != None:\n",
        "        pre_order(tree[node.right_node])\n",
        "\n",
        "# 중위 순회(Inorder Traversal)\n",
        "def in_order(node):\n",
        "    if node.left_node != None:\n",
        "        in_order(tree[node.left_node])\n",
        "    print(node.data, end=' ')\n",
        "    if node.right_node != None:\n",
        "        in_order(tree[node.right_node])\n",
        "\n",
        "# 후위 순회(Postorder Traversal)\n",
        "def post_order(node):\n",
        "    if node.left_node != None:\n",
        "        post_order(tree[node.left_node])\n",
        "    if node.right_node != None:\n",
        "        post_order(tree[node.right_node])\n",
        "    print(node.data, end=' ')\n",
        "    \n",
        "n = int(input())\n",
        "tree = {}\n",
        "\n",
        "for i in range(n):\n",
        "    data, left_node, right_node = input().split()\n",
        "    if left_node == \"None\":\n",
        "        left_node = None\n",
        "    if right_node == \"None\":\n",
        "        right_node = None\n",
        "    tree[data] = Node(data, left_node, right_node)\n",
        "\n",
        "pre_order(tree['A'])\n",
        "print()\n",
        "in_order(tree['A'])\n",
        "print() \n",
        "post_order(tree['A'])"
      ],
      "execution_count": 17,
      "outputs": [
        {
          "output_type": "stream",
          "text": [
            "7\n",
            "A B C\n",
            "B D E\n",
            "C F G\n",
            "D None None\n",
            "E None None\n",
            "F None None\n",
            "G None None\n",
            "A B D E C F G \n",
            "D B E A F C G \n",
            "D E B F G C A "
          ],
          "name": "stdout"
        }
      ]
    },
    {
      "cell_type": "markdown",
      "metadata": {
        "id": "zs-9-W0qYQZV"
      },
      "source": [
        "### 특수한 목적의 자료구조\n",
        "- 바이너리 인덱스 트리 = 펜윅 트리(fenwick tree)"
      ]
    },
    {
      "cell_type": "code",
      "metadata": {
        "colab": {
          "base_uri": "https://localhost:8080/"
        },
        "id": "gM6_bPK3Px4t",
        "outputId": "e08b191b-f358-406e-cfed-33a0a1c32f02"
      },
      "source": [
        "n = 8\n",
        "\n",
        "for i in range(n + 1):\n",
        "    print(i, \"의 마지막 비트:\", (i & -i))"
      ],
      "execution_count": 18,
      "outputs": [
        {
          "output_type": "stream",
          "text": [
            "0 의 마지막 비트: 0\n",
            "1 의 마지막 비트: 1\n",
            "2 의 마지막 비트: 2\n",
            "3 의 마지막 비트: 1\n",
            "4 의 마지막 비트: 4\n",
            "5 의 마지막 비트: 1\n",
            "6 의 마지막 비트: 2\n",
            "7 의 마지막 비트: 1\n",
            "8 의 마지막 비트: 8\n"
          ],
          "name": "stdout"
        }
      ]
    },
    {
      "cell_type": "code",
      "metadata": {
        "id": "Mvpjr6gKV-ER"
      },
      "source": [
        "'''\n",
        "import sys\n",
        "input = sys.stdin.readline\n",
        "\n",
        "# 데이터의 개수(n), 변경 횟수(m), 구간 합 계산 횟수(k)\n",
        "n, m, k = map(int, input().split())\n",
        "\n",
        "# 전체 데이터의 개수는 최대 1,000,000개\n",
        "arr = [0] * (n + 1)\n",
        "tree = [0] * (n + 1)\n",
        "\n",
        "# i번째 수까지의 누적 합을 계산하는 함수\n",
        "def prefix_sum(i):\n",
        "    result = 0\n",
        "    while i > 0:\n",
        "        result += tree[i]\n",
        "        # 0이 아닌 마지막 비트만큼 빼가면서 이동\n",
        "        i -= (i & -i)\n",
        "    return result\n",
        "\n",
        "# i번째 수를 dif만큼 더하는 함수\n",
        "def update(i, dif):\n",
        "    while i <= n:\n",
        "        tree[i] += dif\n",
        "        i += (i & -i)\n",
        "\n",
        "# start부터 end까지의 구간 합을 계산하는 함수\n",
        "def interval_sum(start, end):\n",
        "    return prefix_sum(end) - prefix_sum(start - 1)\n",
        "\n",
        "for i in range(1, n + 1):\n",
        "    x = int(input())\n",
        "    arr[i] = x\n",
        "    update(i, x)\n",
        "\n",
        "for i in range(m + k):\n",
        "    a, b, c = map(int, input().split())\n",
        "    # 업데이트(update) 연산인 경우\n",
        "    if a == 1:\n",
        "        update(b, c - arr[b])   # 바뀐 크기(dif)만큼 적용\n",
        "        arr[b] = c    # 구간 합(interval sum) 연산인 경우\n",
        "\n",
        "    else:\n",
        "        print(interval_sum(b, c))  \n",
        "'''"
      ],
      "execution_count": null,
      "outputs": []
    },
    {
      "cell_type": "code",
      "metadata": {
        "id": "bhaskyFOWBq8"
      },
      "source": [
        ""
      ],
      "execution_count": null,
      "outputs": []
    }
  ]
}